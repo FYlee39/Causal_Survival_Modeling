{
 "cells": [
  {
   "metadata": {},
   "cell_type": "markdown",
   "source": "# Benchmark test on SUPPORT",
   "id": "3089edadb72a1fc7"
  },
  {
   "metadata": {},
   "cell_type": "markdown",
   "source": "Import data set",
   "id": "1a750dcc05ebc0c5"
  },
  {
   "metadata": {
    "ExecuteTime": {
     "end_time": "2025-06-25T21:04:32.286303Z",
     "start_time": "2025-06-25T21:04:32.221473Z"
    }
   },
   "cell_type": "code",
   "source": [
    "import numpy as np\n",
    "import pandas as pd\n",
    "import torch\n",
    "\n",
    "import sys\n",
    "from sklearn.model_selection import ParameterGrid\n",
    "\n",
    "\n",
    "sys.path.append('../')\n",
    "from auton_survival import datasets\n",
    "outcomes, features = datasets.load_support()"
   ],
   "id": "6ce0854996fff80a",
   "outputs": [],
   "execution_count": 2
  },
  {
   "metadata": {},
   "cell_type": "markdown",
   "source": "Preprocess data",
   "id": "5f02004bb2c61715"
  },
  {
   "metadata": {
    "ExecuteTime": {
     "end_time": "2025-06-25T21:04:33.805235Z",
     "start_time": "2025-06-25T21:04:33.734426Z"
    }
   },
   "cell_type": "code",
   "source": [
    "from auton_survival.preprocessing import Preprocessor\n",
    "\n",
    "cat_feats = ['sex', 'dzgroup', 'dzclass', 'income', 'race', 'ca']\n",
    "num_feats = ['age', 'num.co', 'meanbp', 'wblc', 'hrt', 'resp',\n",
    "             'temp', 'pafi', 'alb', 'bili', 'crea', 'sod', 'ph',\n",
    "             'glucose', 'bun', 'urine', 'adlp', 'adls']\n",
    "\n",
    "\n",
    "features = Preprocessor().fit_transform(features, cat_feats=cat_feats, num_feats=num_feats)\n",
    "\n",
    "\n",
    "horizons = [0.25, 0.5, 0.75]\n",
    "times = np.quantile(outcomes.time[outcomes.event==1], horizons).tolist()\n",
    "\n",
    "x, t, e = features.values, outcomes.time.values, outcomes.event.values\n",
    "\n",
    "n = len(x)\n",
    "\n",
    "tr_size = int(n * 0.70)\n",
    "vl_size = int(n * 0.10)\n",
    "te_size = int(n * 0.20)\n",
    "\n",
    "x_train, x_test, x_val = x[:tr_size], x[-te_size:], x[tr_size:tr_size+vl_size]\n",
    "t_train, t_test, t_val = t[:tr_size], t[-te_size:], t[tr_size:tr_size+vl_size]\n",
    "e_train, e_test, e_val = e[:tr_size], e[-te_size:], e[tr_size:tr_size+vl_size]\n",
    "\n",
    "t = outcomes[\"time\"]\n",
    "e = outcomes[\"event\"]\n",
    "quantiles = [0.25, 0.5, 0.75]\n",
    "quantiles = np.quantile(t[e == 1], quantiles)\n",
    "\n",
    "def dataframe_to_tensor(data):\n",
    "    \"\"\"Function that converts a pandas dataframe into a tensor\"\"\"\n",
    "    if isinstance(data, (pd.Series, pd.DataFrame)):\n",
    "        return data.to_numpy()\n",
    "    else:\n",
    "        return torch.from_numpy(data).float()\n",
    "\n",
    "x_val_tensor = dataframe_to_tensor(x_val)\n",
    "t_val_tensor = dataframe_to_tensor(t_val)\n",
    "e_val_tensor = dataframe_to_tensor(e_val)"
   ],
   "id": "7aaf7e3e6b9fd57",
   "outputs": [],
   "execution_count": 3
  },
  {
   "metadata": {
    "ExecuteTime": {
     "end_time": "2025-06-25T21:04:35.695181Z",
     "start_time": "2025-06-25T21:04:35.684210Z"
    }
   },
   "cell_type": "code",
   "source": [
    "train_data = (x_train, t_train, e_train)\n",
    "val_data_tensor = (x_val_tensor, t_val_tensor, e_val_tensor)\n",
    "val_data = (x_val, t_val, e_val)\n",
    "test_data = (x_test, t_test, e_test)"
   ],
   "id": "a6f7b235b50ebfc0",
   "outputs": [],
   "execution_count": 4
  },
  {
   "metadata": {},
   "cell_type": "markdown",
   "source": "## DCM model",
   "id": "381635143fbd0a08"
  },
  {
   "metadata": {
    "ExecuteTime": {
     "end_time": "2025-06-25T21:04:36.963788Z",
     "start_time": "2025-06-25T21:04:36.954812Z"
    }
   },
   "cell_type": "code",
   "source": [
    "from auton_survival.models.dcm import DeepCoxMixtures\n",
    "from auton_survival.models.dcm.dcm_utilities import test_step\n",
    "\n",
    "# hyperparameters according to the paper\n",
    "DCM_param_grid = {\"k\" : [3, 4, 6],\n",
    "                  \"learning_rate\" : [1e-3],\n",
    "                  \"layers\" : [[50], [100], [50, 50], [100, 100]],\n",
    "                  \"batch_size\": [128]\n",
    "                  }\n",
    "\n",
    "DCM_params = ParameterGrid(DCM_param_grid)"
   ],
   "id": "eefd45c66181587f",
   "outputs": [],
   "execution_count": 5
  },
  {
   "metadata": {
    "ExecuteTime": {
     "end_time": "2025-06-25T21:04:38.186517Z",
     "start_time": "2025-06-25T21:04:38.176545Z"
    }
   },
   "cell_type": "code",
   "source": [
    "class DCM_Wrapper(object):\n",
    "    def __init__(self, params_grid):\n",
    "        self.params_grid = params_grid\n",
    "        self.model = None\n",
    "\n",
    "    def fit(self, train_set, val_set):\n",
    "\n",
    "        x_train, t_train, e_train = train_set\n",
    "        x_val, t_val, e_val = val_set\n",
    "        x_val_tensor = dataframe_to_tensor(x_val)\n",
    "        t_val_tensor = dataframe_to_tensor(t_val)\n",
    "        e_val_tensor = dataframe_to_tensor(e_val)\n",
    "\n",
    "        models = []\n",
    "        for param in self.params_grid:\n",
    "            model = DeepCoxMixtures(k=param[\"k\"],\n",
    "                                    layers=param[\"layers\"])\n",
    "            # The fit method is called to train the model\n",
    "            model.fit(x_train, t_train, e_train,\n",
    "                      iters=100,\n",
    "                      learning_rate=param[\"learning_rate\"],\n",
    "                      batch_size=param[\"batch_size\"])\n",
    "\n",
    "            # store the performance on the validation set\n",
    "            breslow_splines = model.torch_model[1]\n",
    "            val_result = test_step(model.torch_model[0], x_val_tensor, t_val_tensor, e_val_tensor, breslow_splines)\n",
    "            models.append([[val_result, model]])\n",
    "\n",
    "        best_model = min(models)\n",
    "        self.model = best_model[0][1]\n",
    "\n",
    "    def predict(self, test_set):\n",
    "\n",
    "        x_test, t_test, e_test = test_set\n",
    "\n",
    "        out_survival = self.model.predict_survival(x_test, times)\n",
    "        out_risk = 1 - out_survival\n",
    "\n",
    "        return out_survival, out_risk\n"
   ],
   "id": "ac4e8e4734171cd",
   "outputs": [],
   "execution_count": 6
  },
  {
   "metadata": {},
   "cell_type": "markdown",
   "source": "## DSM model",
   "id": "549b2181f57a5f86"
  },
  {
   "metadata": {
    "ExecuteTime": {
     "end_time": "2025-06-25T21:04:40.014628Z",
     "start_time": "2025-06-25T21:04:40.004655Z"
    }
   },
   "cell_type": "code",
   "source": [
    "from auton_survival.models.dsm import DeepSurvivalMachines\n",
    "\n",
    "DSM_param_grid = {\"distribution\": ['Weibull'],\n",
    "                  \"k\": [3, 4, 6],\n",
    "                  \"layers\": [[50], [50, 50], [100], [100, 100]],\n",
    "                  \"batch_size\": [128],\n",
    "                  \"learning_rate\": [1e-3],\n",
    "                  \"activation\": [\"SeLu\"]\n",
    "             }\n",
    "DSM_params = ParameterGrid(DSM_param_grid)"
   ],
   "id": "a8271acef2a37329",
   "outputs": [],
   "execution_count": 7
  },
  {
   "metadata": {
    "ExecuteTime": {
     "end_time": "2025-06-25T21:12:01.737697Z",
     "start_time": "2025-06-25T21:12:01.724732Z"
    }
   },
   "cell_type": "code",
   "source": [
    "class DSM_Wrapper(object):\n",
    "    def __init__(self, params_grid):\n",
    "        self.params_grid = params_grid\n",
    "        self.model = None\n",
    "\n",
    "    def fit(self, train_set, val_set):\n",
    "\n",
    "        models = []\n",
    "        x_train, t_train, e_train = train_set\n",
    "        x_val, t_val, e_val = val_set\n",
    "        for param in self.params_grid:\n",
    "            model = DeepSurvivalMachines(k=param['k'],\n",
    "                                 distribution=param['distribution'],\n",
    "                                 layers=param['layers'])\n",
    "\n",
    "            model.fit(x_train, t_train, e_train, iters=100, learning_rate=param['learning_rate'])\n",
    "            models.append([model.compute_nll(x_val, t_val, e_val), model])\n",
    "\n",
    "        best_model_entry = min(models, key=lambda x: x[0])\n",
    "\n",
    "        # Extract the model\n",
    "        self.model = best_model_entry[1]\n",
    "\n",
    "    def predict(self, test_set):\n",
    "\n",
    "        x_test, t_test, e_test = test_set\n",
    "\n",
    "        out_survival = self.model.predict_survival(x_test, times)\n",
    "        out_risk = 1 - out_survival\n",
    "\n",
    "        return out_survival, out_risk\n"
   ],
   "id": "aeeb382e6aa2ddcc",
   "outputs": [],
   "execution_count": 11
  },
  {
   "metadata": {},
   "cell_type": "markdown",
   "source": "## Benchmark Function",
   "id": "9339cae5de43c68d"
  },
  {
   "metadata": {
    "ExecuteTime": {
     "end_time": "2025-06-25T21:12:09.270094Z",
     "start_time": "2025-06-25T21:12:09.255134Z"
    }
   },
   "cell_type": "code",
   "source": [
    "import time\n",
    "import pickle\n",
    "from sksurv.metrics import concordance_index_ipcw, brier_score, cumulative_dynamic_auc\n",
    "\n",
    "def benchmark_model(name, model_wrap, train_set, val_set, test_set):\n",
    "    result = {'Model': name}\n",
    "\n",
    "    try:\n",
    "        start = time.time()\n",
    "        model_wrap.fit(train_set=train_set, val_set=val_set)\n",
    "        result['Train Time'] = time.time() - start\n",
    "        print(\"Fit complete!\")\n",
    "\n",
    "        start = time.time()\n",
    "        survival, risk = model_wrap.predict(test_set)\n",
    "        result['Predict Time'] = time.time() - start\n",
    "        print(\"Predict complete!\")\n",
    "\n",
    "        cis = []\n",
    "        brs = []\n",
    "\n",
    "        et_train = np.array([(e_train[i], t_train[i]) for i in range(len(e_train))],\n",
    "                         dtype = [('e', bool), ('t', float)])\n",
    "        et_test = np.array([(e_test[i], t_test[i]) for i in range(len(e_test))],\n",
    "                         dtype = [('e', bool), ('t', float)])\n",
    "        et_val = np.array([(e_val[i], t_val[i]) for i in range(len(e_val))],\n",
    "                         dtype = [('e', bool), ('t', float)])\n",
    "\n",
    "        for i, _ in enumerate(times):\n",
    "            cis.append(concordance_index_ipcw(et_train, et_test, risk[:, i], times[i])[0])\n",
    "\n",
    "        brs.append(brier_score(et_train, et_test, survival, times)[1])\n",
    "        roc_auc = []\n",
    "\n",
    "        for i, _ in enumerate(times):\n",
    "            roc_auc.append(cumulative_dynamic_auc(et_train, et_test, risk[:, i], times[i])[0])\n",
    "\n",
    "        for horizon in enumerate(horizons):\n",
    "            result[f\"{horizon[1]} quantile TD Concordance Index\"] = cis[horizon[0]]\n",
    "            result[f\"{horizon[1]} quantile Brier Score\"] = brs[0][horizon[0]]\n",
    "            result[f\"{horizon[1]} quantile ROC AUC\"] = roc_auc[horizon[0]][0]\n",
    "\n",
    "    except Exception as e:\n",
    "        result['Error'] = str(e)\n",
    "\n",
    "    return result\n"
   ],
   "id": "f1edfdce06c3612e",
   "outputs": [],
   "execution_count": 12
  },
  {
   "metadata": {
    "ExecuteTime": {
     "end_time": "2025-06-25T21:18:42.472756Z",
     "start_time": "2025-06-25T21:12:10.945612Z"
    }
   },
   "cell_type": "code",
   "source": [
    "dcm_wrap = DCM_Wrapper(DCM_params)\n",
    "dsm_wrap = DSM_Wrapper(DSM_params)\n",
    "\n",
    "models_wrap = [\n",
    "    (\"DCM\", dcm_wrap),\n",
    "    (\"DSM\", dsm_wrap),\n",
    "]\n",
    "\n",
    "results = [benchmark_model(name, model_wrap, train_data, val_data, test_data)\n",
    "           for name, model_wrap in models_wrap]\n",
    "\n",
    "# save fitted model\n",
    "for name, model in models_wrap:\n",
    "    with open(f'{name}.pkl', 'wb') as f:\n",
    "        pickle.dump(model.model, f)\n",
    "\n",
    "pd.DataFrame(results)"
   ],
   "id": "e3b20988242e4980",
   "outputs": [
    {
     "name": "stderr",
     "output_type": "stream",
     "text": [
      "  0%|          | 0/100 [00:00<?, ?it/s]D:\\anaconda3\\envs\\FLCausalMixture\\lib\\site-packages\\auton_survival\\models\\dcm\\dcm_utilities.py:105: RuntimeWarning: invalid value encountered in log\n",
      "  probs = gates+np.log(event_probs)\n",
      "  5%|▌         | 5/100 [00:02<00:42,  2.23it/s]D:\\anaconda3\\envs\\FLCausalMixture\\lib\\site-packages\\auton_survival\\models\\dcm\\dcm_utilities.py:105: RuntimeWarning: divide by zero encountered in log\n",
      "  probs = gates+np.log(event_probs)\n",
      " 11%|█         | 11/100 [00:04<00:34,  2.59it/s]D:\\anaconda3\\envs\\FLCausalMixture\\lib\\site-packages\\auton_survival\\models\\dcm\\dcm_utilities.py:58: RuntimeWarning: invalid value encountered in power\n",
      "  return spl(ts)**risks\n",
      "D:\\anaconda3\\envs\\FLCausalMixture\\lib\\site-packages\\auton_survival\\models\\dcm\\dcm_utilities.py:53: RuntimeWarning: invalid value encountered in power\n",
      "  s0ts = (-risks)*(spl(ts)**(risks-1))\n",
      " 48%|████▊     | 48/100 [00:18<00:20,  2.56it/s]\n",
      " 67%|██████▋   | 67/100 [00:28<00:14,  2.35it/s]\n",
      " 30%|███       | 30/100 [00:13<00:32,  2.18it/s]\n",
      " 61%|██████    | 61/100 [00:33<00:21,  1.80it/s]\n",
      " 34%|███▍      | 34/100 [00:17<00:34,  1.91it/s]\n",
      " 61%|██████    | 61/100 [00:32<00:20,  1.89it/s]\n",
      " 20%|██        | 20/100 [00:10<00:43,  1.82it/s]\n",
      " 38%|███▊      | 38/100 [00:21<00:35,  1.75it/s]\n",
      " 44%|████▍     | 44/100 [00:29<00:38,  1.47it/s]\n",
      " 56%|█████▌    | 56/100 [00:36<00:29,  1.52it/s]\n",
      " 19%|█▉        | 19/100 [00:12<00:53,  1.52it/s]\n",
      " 48%|████▊     | 48/100 [00:34<00:37,  1.39it/s]\n"
     ]
    },
    {
     "name": "stdout",
     "output_type": "stream",
     "text": [
      "Fit complete!\n",
      "Predict complete!\n"
     ]
    },
    {
     "name": "stderr",
     "output_type": "stream",
     "text": [
      " 18%|█▊        | 1797/10000 [00:03<00:17, 457.07it/s]\n",
      " 27%|██▋       | 27/100 [00:04<00:12,  5.85it/s]\n",
      " 18%|█▊        | 1797/10000 [00:03<00:18, 450.73it/s]\n",
      " 23%|██▎       | 23/100 [00:04<00:14,  5.23it/s]\n",
      " 18%|█▊        | 1797/10000 [00:03<00:17, 476.10it/s]\n",
      " 17%|█▋        | 17/100 [00:03<00:14,  5.63it/s]\n",
      " 18%|█▊        | 1797/10000 [00:04<00:18, 436.70it/s]\n",
      "  9%|▉         | 9/100 [00:02<00:20,  4.43it/s]\n",
      " 18%|█▊        | 1797/10000 [00:03<00:17, 456.21it/s]\n",
      " 34%|███▍      | 34/100 [00:06<00:12,  5.40it/s]\n",
      " 18%|█▊        | 1797/10000 [00:03<00:18, 453.10it/s]\n",
      " 17%|█▋        | 17/100 [00:04<00:20,  4.03it/s]\n",
      " 18%|█▊        | 1797/10000 [00:04<00:18, 433.19it/s]\n",
      " 17%|█▋        | 17/100 [00:03<00:17,  4.82it/s]\n",
      " 18%|█▊        | 1797/10000 [00:03<00:17, 475.21it/s]\n",
      " 14%|█▍        | 14/100 [00:03<00:19,  4.35it/s]\n",
      " 18%|█▊        | 1797/10000 [00:03<00:17, 472.14it/s]\n",
      " 27%|██▋       | 27/100 [00:06<00:17,  4.14it/s]\n",
      " 18%|█▊        | 1797/10000 [00:03<00:17, 457.65it/s]\n",
      " 14%|█▍        | 14/100 [00:03<00:22,  3.86it/s]\n",
      " 18%|█▊        | 1797/10000 [00:03<00:17, 467.88it/s]\n",
      " 26%|██▌       | 26/100 [00:06<00:17,  4.16it/s]\n",
      " 18%|█▊        | 1797/10000 [00:04<00:18, 445.11it/s]\n",
      " 14%|█▍        | 14/100 [00:03<00:23,  3.59it/s]\n"
     ]
    },
    {
     "name": "stdout",
     "output_type": "stream",
     "text": [
      "Fit complete!\n",
      "Predict complete!\n"
     ]
    },
    {
     "data": {
      "text/plain": [
       "  Model  Train Time  Predict Time  0.25 quantile TD Concordance Index  \\\n",
       "0   DCM  291.946101      0.000997                            0.771127   \n",
       "1   DSM   99.105314      0.006980                            0.764754   \n",
       "\n",
       "   0.25 quantile Brier Score  0.25 quantile ROC AUC  \\\n",
       "0                   0.108708               0.781708   \n",
       "1                   0.107793               0.777287   \n",
       "\n",
       "   0.5 quantile TD Concordance Index  0.5 quantile Brier Score  \\\n",
       "0                           0.717221                  0.178909   \n",
       "1                           0.701391                  0.178519   \n",
       "\n",
       "   0.5 quantile ROC AUC  0.75 quantile TD Concordance Index  \\\n",
       "0              0.741438                            0.673002   \n",
       "1              0.726148                            0.671678   \n",
       "\n",
       "   0.75 quantile Brier Score  0.75 quantile ROC AUC  \n",
       "0                   0.220844               0.716491  \n",
       "1                   0.213196               0.722964  "
      ],
      "text/html": [
       "<div>\n",
       "<style scoped>\n",
       "    .dataframe tbody tr th:only-of-type {\n",
       "        vertical-align: middle;\n",
       "    }\n",
       "\n",
       "    .dataframe tbody tr th {\n",
       "        vertical-align: top;\n",
       "    }\n",
       "\n",
       "    .dataframe thead th {\n",
       "        text-align: right;\n",
       "    }\n",
       "</style>\n",
       "<table border=\"1\" class=\"dataframe\">\n",
       "  <thead>\n",
       "    <tr style=\"text-align: right;\">\n",
       "      <th></th>\n",
       "      <th>Model</th>\n",
       "      <th>Train Time</th>\n",
       "      <th>Predict Time</th>\n",
       "      <th>0.25 quantile TD Concordance Index</th>\n",
       "      <th>0.25 quantile Brier Score</th>\n",
       "      <th>0.25 quantile ROC AUC</th>\n",
       "      <th>0.5 quantile TD Concordance Index</th>\n",
       "      <th>0.5 quantile Brier Score</th>\n",
       "      <th>0.5 quantile ROC AUC</th>\n",
       "      <th>0.75 quantile TD Concordance Index</th>\n",
       "      <th>0.75 quantile Brier Score</th>\n",
       "      <th>0.75 quantile ROC AUC</th>\n",
       "    </tr>\n",
       "  </thead>\n",
       "  <tbody>\n",
       "    <tr>\n",
       "      <th>0</th>\n",
       "      <td>DCM</td>\n",
       "      <td>291.946101</td>\n",
       "      <td>0.000997</td>\n",
       "      <td>0.771127</td>\n",
       "      <td>0.108708</td>\n",
       "      <td>0.781708</td>\n",
       "      <td>0.717221</td>\n",
       "      <td>0.178909</td>\n",
       "      <td>0.741438</td>\n",
       "      <td>0.673002</td>\n",
       "      <td>0.220844</td>\n",
       "      <td>0.716491</td>\n",
       "    </tr>\n",
       "    <tr>\n",
       "      <th>1</th>\n",
       "      <td>DSM</td>\n",
       "      <td>99.105314</td>\n",
       "      <td>0.006980</td>\n",
       "      <td>0.764754</td>\n",
       "      <td>0.107793</td>\n",
       "      <td>0.777287</td>\n",
       "      <td>0.701391</td>\n",
       "      <td>0.178519</td>\n",
       "      <td>0.726148</td>\n",
       "      <td>0.671678</td>\n",
       "      <td>0.213196</td>\n",
       "      <td>0.722964</td>\n",
       "    </tr>\n",
       "  </tbody>\n",
       "</table>\n",
       "</div>"
      ]
     },
     "execution_count": 13,
     "metadata": {},
     "output_type": "execute_result"
    }
   ],
   "execution_count": 13
  }
 ],
 "metadata": {
  "kernelspec": {
   "display_name": "FLCausalMixture",
   "language": "python",
   "name": "flcausalmixture"
  },
  "language_info": {
   "codemirror_mode": {
    "name": "ipython",
    "version": 2
   },
   "file_extension": ".py",
   "mimetype": "text/x-python",
   "name": "python",
   "nbconvert_exporter": "python",
   "pygments_lexer": "ipython2",
   "version": "2.7.6"
  }
 },
 "nbformat": 4,
 "nbformat_minor": 5
}
