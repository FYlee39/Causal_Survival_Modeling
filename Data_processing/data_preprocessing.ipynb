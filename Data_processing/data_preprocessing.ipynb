{
 "cells": [
  {
   "cell_type": "code",
   "id": "initial_id",
   "metadata": {
    "collapsed": true,
    "ExecuteTime": {
     "end_time": "2025-07-17T11:35:20.319763Z",
     "start_time": "2025-07-17T11:35:17.620190Z"
    }
   },
   "source": "import pandas as pd",
   "outputs": [],
   "execution_count": 1
  },
  {
   "metadata": {
    "ExecuteTime": {
     "end_time": "2025-07-17T11:35:27.183327Z",
     "start_time": "2025-07-17T11:35:22.023566Z"
    }
   },
   "cell_type": "code",
   "source": [
    "path = \"C:\\\\Users\\\\lee39\\\\OneDrive\\\\Desktop\\\\preprocessing\\\\\"\n",
    "\n",
    "patient_df = pd.read_csv(path + \"patient_cleaned.csv\")\n",
    "apache_df = pd.read_csv(path + \"processed_apacheApsVar.csv\")\n",
    "diagnosis_df = pd.read_csv(path + \"processed_diagnosis.csv\")\n",
    "lab_df = pd.read_csv(path + \"processed_lab.csv\")\n",
    "treatment_df = pd.read_csv(path + \"processed_treatment.csv\")"
   ],
   "id": "23f16217d51309ed",
   "outputs": [],
   "execution_count": 2
  },
  {
   "metadata": {
    "ExecuteTime": {
     "end_time": "2025-07-17T11:35:39.351941Z",
     "start_time": "2025-07-17T11:35:39.065361Z"
    }
   },
   "cell_type": "code",
   "source": [
    "# Drop duplicate rows based on patientunitstayid\n",
    "patient_df = patient_df.drop_duplicates(subset=\"patientunitstayid\")\n",
    "apache_df = apache_df.drop_duplicates(subset=\"patientunitstayid\")\n",
    "diagnosis_df = diagnosis_df.drop_duplicates(subset=\"patientunitstayid\")\n",
    "lab_df = lab_df.drop_duplicates(subset=\"patientunitstayid\")\n",
    "treatment_df = treatment_df.drop_duplicates(subset=\"patientunitstayid\")"
   ],
   "id": "d4ca0051641c29fb",
   "outputs": [],
   "execution_count": 3
  },
  {
   "metadata": {
    "ExecuteTime": {
     "end_time": "2025-07-17T11:35:41.546399Z",
     "start_time": "2025-07-17T11:35:41.083976Z"
    }
   },
   "cell_type": "code",
   "source": [
    "# Merge datasets one by one on patientunitstayid\n",
    "merged_df = patient_df.merge(apache_df, on=\"patientunitstayid\", how=\"left\") \\\n",
    "                      .merge(diagnosis_df, on=\"patientunitstayid\", how=\"left\") \\\n",
    "                      .merge(lab_df, on=\"patientunitstayid\", how=\"left\") \\\n",
    "                      .merge(treatment_df, on=\"patientunitstayid\", how=\"left\")"
   ],
   "id": "d7358d3682717f0f",
   "outputs": [],
   "execution_count": 4
  },
  {
   "metadata": {
    "ExecuteTime": {
     "end_time": "2025-07-17T11:39:33.209134Z",
     "start_time": "2025-07-17T11:39:33.053506Z"
    }
   },
   "cell_type": "code",
   "source": "patient_df.info()",
   "id": "372d55c5f7f2c89c",
   "outputs": [
    {
     "name": "stdout",
     "output_type": "stream",
     "text": [
      "<class 'pandas.core.frame.DataFrame'>\n",
      "Int64Index: 77144 entries, 0 to 77143\n",
      "Data columns (total 32 columns):\n",
      " #   Column                     Non-Null Count  Dtype  \n",
      "---  ------                     --------------  -----  \n",
      " 0   Unnamed: 0                 77144 non-null  int64  \n",
      " 1   patientunitstayid          77144 non-null  int64  \n",
      " 2   patienthealthsystemstayid  77144 non-null  int64  \n",
      " 3   gender                     77144 non-null  object \n",
      " 4   age                        77144 non-null  int64  \n",
      " 5   ethnicity                  77144 non-null  object \n",
      " 6   hospitalid                 77144 non-null  int64  \n",
      " 7   wardid                     77144 non-null  int64  \n",
      " 8   apacheadmissiondx          77144 non-null  object \n",
      " 9   admissionheight            77144 non-null  float64\n",
      " 10  hospitaladmittime24        77144 non-null  object \n",
      " 11  hospitaladmitoffset        77144 non-null  int64  \n",
      " 12  hospitaladmitsource        77144 non-null  object \n",
      " 13  hospitaldischargeyear      77144 non-null  int64  \n",
      " 14  hospitaldischargetime24    77144 non-null  object \n",
      " 15  hospitaldischargeoffset    77144 non-null  int64  \n",
      " 16  hospitaldischargelocation  77144 non-null  object \n",
      " 17  hospitaldischargestatus    77144 non-null  object \n",
      " 18  unittype                   77144 non-null  object \n",
      " 19  unitadmittime24            77144 non-null  object \n",
      " 20  unitadmitsource            77144 non-null  object \n",
      " 21  unitstaytype               77144 non-null  object \n",
      " 22  admissionweight            77144 non-null  float64\n",
      " 23  dischargeweight            77144 non-null  float64\n",
      " 24  unitdischargetime24        77144 non-null  object \n",
      " 25  unitdischargeoffset        77144 non-null  int64  \n",
      " 26  unitdischargelocation      77144 non-null  object \n",
      " 27  unitdischargestatus        77144 non-null  object \n",
      " 28  uniquepid                  77144 non-null  object \n",
      " 29  age_group                  77144 non-null  object \n",
      " 30  unit_admit_period          77144 non-null  object \n",
      " 31  admission_type             77144 non-null  object \n",
      "dtypes: float64(3), int64(10), object(19)\n",
      "memory usage: 19.4+ MB\n"
     ]
    }
   ],
   "execution_count": 6
  },
  {
   "metadata": {
    "ExecuteTime": {
     "end_time": "2025-07-17T11:55:09.089797Z",
     "start_time": "2025-07-17T11:55:09.064187Z"
    }
   },
   "cell_type": "code",
   "source": "patient_df[[\"hospitaladmitoffset\", \"hospitaldischargeoffset\", \"unitdischargeoffset\", \"hospitaldischargestatus\", \"unitdischargestatus\"]]",
   "id": "6196cffc7279d191",
   "outputs": [
    {
     "data": {
      "text/plain": [
       "       hospitaladmitoffset  hospitaldischargeoffset  unitdischargeoffset  \\\n",
       "0                        0                     3596                 3596   \n",
       "1                     -780                    12492                 4813   \n",
       "2                      -25                     5534                   74   \n",
       "3                    -1336                     4063                 1869   \n",
       "4                       -1                      606                  720   \n",
       "...                    ...                      ...                  ...   \n",
       "77139                  -34                     3811                 1069   \n",
       "77140                  -14                     9665                 1269   \n",
       "77141                 -206                    19098                16259   \n",
       "77142                 -271                     6144                  431   \n",
       "77143                 -108                     9590                  928   \n",
       "\n",
       "      hospitaldischargestatus unitdischargestatus unit_admit_period  \n",
       "0                     Expired             Expired       08:00-16:00  \n",
       "1                       Alive               Alive       00:00-08:00  \n",
       "2                       Alive               Alive       16:00-24:00  \n",
       "3                       Alive               Alive       16:00-24:00  \n",
       "4                       Alive               Alive       08:00-16:00  \n",
       "...                       ...                 ...               ...  \n",
       "77139                   Alive               Alive       00:00-08:00  \n",
       "77140                   Alive               Alive       00:00-08:00  \n",
       "77141                   Alive               Alive       16:00-24:00  \n",
       "77142                   Alive               Alive       08:00-16:00  \n",
       "77143                   Alive               Alive       00:00-08:00  \n",
       "\n",
       "[77144 rows x 6 columns]"
      ],
      "text/html": [
       "<div>\n",
       "<style scoped>\n",
       "    .dataframe tbody tr th:only-of-type {\n",
       "        vertical-align: middle;\n",
       "    }\n",
       "\n",
       "    .dataframe tbody tr th {\n",
       "        vertical-align: top;\n",
       "    }\n",
       "\n",
       "    .dataframe thead th {\n",
       "        text-align: right;\n",
       "    }\n",
       "</style>\n",
       "<table border=\"1\" class=\"dataframe\">\n",
       "  <thead>\n",
       "    <tr style=\"text-align: right;\">\n",
       "      <th></th>\n",
       "      <th>hospitaladmitoffset</th>\n",
       "      <th>hospitaldischargeoffset</th>\n",
       "      <th>unitdischargeoffset</th>\n",
       "      <th>hospitaldischargestatus</th>\n",
       "      <th>unitdischargestatus</th>\n",
       "      <th>unit_admit_period</th>\n",
       "    </tr>\n",
       "  </thead>\n",
       "  <tbody>\n",
       "    <tr>\n",
       "      <th>0</th>\n",
       "      <td>0</td>\n",
       "      <td>3596</td>\n",
       "      <td>3596</td>\n",
       "      <td>Expired</td>\n",
       "      <td>Expired</td>\n",
       "      <td>08:00-16:00</td>\n",
       "    </tr>\n",
       "    <tr>\n",
       "      <th>1</th>\n",
       "      <td>-780</td>\n",
       "      <td>12492</td>\n",
       "      <td>4813</td>\n",
       "      <td>Alive</td>\n",
       "      <td>Alive</td>\n",
       "      <td>00:00-08:00</td>\n",
       "    </tr>\n",
       "    <tr>\n",
       "      <th>2</th>\n",
       "      <td>-25</td>\n",
       "      <td>5534</td>\n",
       "      <td>74</td>\n",
       "      <td>Alive</td>\n",
       "      <td>Alive</td>\n",
       "      <td>16:00-24:00</td>\n",
       "    </tr>\n",
       "    <tr>\n",
       "      <th>3</th>\n",
       "      <td>-1336</td>\n",
       "      <td>4063</td>\n",
       "      <td>1869</td>\n",
       "      <td>Alive</td>\n",
       "      <td>Alive</td>\n",
       "      <td>16:00-24:00</td>\n",
       "    </tr>\n",
       "    <tr>\n",
       "      <th>4</th>\n",
       "      <td>-1</td>\n",
       "      <td>606</td>\n",
       "      <td>720</td>\n",
       "      <td>Alive</td>\n",
       "      <td>Alive</td>\n",
       "      <td>08:00-16:00</td>\n",
       "    </tr>\n",
       "    <tr>\n",
       "      <th>...</th>\n",
       "      <td>...</td>\n",
       "      <td>...</td>\n",
       "      <td>...</td>\n",
       "      <td>...</td>\n",
       "      <td>...</td>\n",
       "      <td>...</td>\n",
       "    </tr>\n",
       "    <tr>\n",
       "      <th>77139</th>\n",
       "      <td>-34</td>\n",
       "      <td>3811</td>\n",
       "      <td>1069</td>\n",
       "      <td>Alive</td>\n",
       "      <td>Alive</td>\n",
       "      <td>00:00-08:00</td>\n",
       "    </tr>\n",
       "    <tr>\n",
       "      <th>77140</th>\n",
       "      <td>-14</td>\n",
       "      <td>9665</td>\n",
       "      <td>1269</td>\n",
       "      <td>Alive</td>\n",
       "      <td>Alive</td>\n",
       "      <td>00:00-08:00</td>\n",
       "    </tr>\n",
       "    <tr>\n",
       "      <th>77141</th>\n",
       "      <td>-206</td>\n",
       "      <td>19098</td>\n",
       "      <td>16259</td>\n",
       "      <td>Alive</td>\n",
       "      <td>Alive</td>\n",
       "      <td>16:00-24:00</td>\n",
       "    </tr>\n",
       "    <tr>\n",
       "      <th>77142</th>\n",
       "      <td>-271</td>\n",
       "      <td>6144</td>\n",
       "      <td>431</td>\n",
       "      <td>Alive</td>\n",
       "      <td>Alive</td>\n",
       "      <td>08:00-16:00</td>\n",
       "    </tr>\n",
       "    <tr>\n",
       "      <th>77143</th>\n",
       "      <td>-108</td>\n",
       "      <td>9590</td>\n",
       "      <td>928</td>\n",
       "      <td>Alive</td>\n",
       "      <td>Alive</td>\n",
       "      <td>00:00-08:00</td>\n",
       "    </tr>\n",
       "  </tbody>\n",
       "</table>\n",
       "<p>77144 rows × 6 columns</p>\n",
       "</div>"
      ]
     },
     "execution_count": 18,
     "metadata": {},
     "output_type": "execute_result"
    }
   ],
   "execution_count": 18
  },
  {
   "metadata": {
    "ExecuteTime": {
     "end_time": "2025-07-17T11:56:36.501218Z",
     "start_time": "2025-07-17T11:56:36.477733Z"
    }
   },
   "cell_type": "code",
   "source": "patient_df[patient_df[\"hospitaldischargeoffset\"] == patient_df[\"unitdischargeoffset\"]][[\"hospitaladmitoffset\", \"hospitaldischargeoffset\", \"unitdischargeoffset\", \"hospitaldischargestatus\", \"unitdischargestatus\"]]",
   "id": "f6691015cf0e166e",
   "outputs": [
    {
     "data": {
      "text/plain": [
       "       hospitaladmitoffset  hospitaldischargeoffset  unitdischargeoffset  \\\n",
       "0                        0                     3596                 3596   \n",
       "21                   -1287                     1349                 1349   \n",
       "31                      -5                      522                  522   \n",
       "37                     -24                     2019                 2019   \n",
       "44                      -5                     1156                 1156   \n",
       "...                    ...                      ...                  ...   \n",
       "77127                 -458                     1273                 1273   \n",
       "77129                 -170                     3590                 3590   \n",
       "77136                 -289                     4913                 4913   \n",
       "77137                    0                     3090                 3090   \n",
       "77138                  -66                    11513                11513   \n",
       "\n",
       "      hospitaldischargestatus unitdischargestatus  \n",
       "0                     Expired             Expired  \n",
       "21                      Alive               Alive  \n",
       "31                      Alive               Alive  \n",
       "37                      Alive               Alive  \n",
       "44                      Alive               Alive  \n",
       "...                       ...                 ...  \n",
       "77127                   Alive               Alive  \n",
       "77129                 Expired             Expired  \n",
       "77136                   Alive               Alive  \n",
       "77137                   Alive               Alive  \n",
       "77138                 Expired             Expired  \n",
       "\n",
       "[11042 rows x 5 columns]"
      ],
      "text/html": [
       "<div>\n",
       "<style scoped>\n",
       "    .dataframe tbody tr th:only-of-type {\n",
       "        vertical-align: middle;\n",
       "    }\n",
       "\n",
       "    .dataframe tbody tr th {\n",
       "        vertical-align: top;\n",
       "    }\n",
       "\n",
       "    .dataframe thead th {\n",
       "        text-align: right;\n",
       "    }\n",
       "</style>\n",
       "<table border=\"1\" class=\"dataframe\">\n",
       "  <thead>\n",
       "    <tr style=\"text-align: right;\">\n",
       "      <th></th>\n",
       "      <th>hospitaladmitoffset</th>\n",
       "      <th>hospitaldischargeoffset</th>\n",
       "      <th>unitdischargeoffset</th>\n",
       "      <th>hospitaldischargestatus</th>\n",
       "      <th>unitdischargestatus</th>\n",
       "    </tr>\n",
       "  </thead>\n",
       "  <tbody>\n",
       "    <tr>\n",
       "      <th>0</th>\n",
       "      <td>0</td>\n",
       "      <td>3596</td>\n",
       "      <td>3596</td>\n",
       "      <td>Expired</td>\n",
       "      <td>Expired</td>\n",
       "    </tr>\n",
       "    <tr>\n",
       "      <th>21</th>\n",
       "      <td>-1287</td>\n",
       "      <td>1349</td>\n",
       "      <td>1349</td>\n",
       "      <td>Alive</td>\n",
       "      <td>Alive</td>\n",
       "    </tr>\n",
       "    <tr>\n",
       "      <th>31</th>\n",
       "      <td>-5</td>\n",
       "      <td>522</td>\n",
       "      <td>522</td>\n",
       "      <td>Alive</td>\n",
       "      <td>Alive</td>\n",
       "    </tr>\n",
       "    <tr>\n",
       "      <th>37</th>\n",
       "      <td>-24</td>\n",
       "      <td>2019</td>\n",
       "      <td>2019</td>\n",
       "      <td>Alive</td>\n",
       "      <td>Alive</td>\n",
       "    </tr>\n",
       "    <tr>\n",
       "      <th>44</th>\n",
       "      <td>-5</td>\n",
       "      <td>1156</td>\n",
       "      <td>1156</td>\n",
       "      <td>Alive</td>\n",
       "      <td>Alive</td>\n",
       "    </tr>\n",
       "    <tr>\n",
       "      <th>...</th>\n",
       "      <td>...</td>\n",
       "      <td>...</td>\n",
       "      <td>...</td>\n",
       "      <td>...</td>\n",
       "      <td>...</td>\n",
       "    </tr>\n",
       "    <tr>\n",
       "      <th>77127</th>\n",
       "      <td>-458</td>\n",
       "      <td>1273</td>\n",
       "      <td>1273</td>\n",
       "      <td>Alive</td>\n",
       "      <td>Alive</td>\n",
       "    </tr>\n",
       "    <tr>\n",
       "      <th>77129</th>\n",
       "      <td>-170</td>\n",
       "      <td>3590</td>\n",
       "      <td>3590</td>\n",
       "      <td>Expired</td>\n",
       "      <td>Expired</td>\n",
       "    </tr>\n",
       "    <tr>\n",
       "      <th>77136</th>\n",
       "      <td>-289</td>\n",
       "      <td>4913</td>\n",
       "      <td>4913</td>\n",
       "      <td>Alive</td>\n",
       "      <td>Alive</td>\n",
       "    </tr>\n",
       "    <tr>\n",
       "      <th>77137</th>\n",
       "      <td>0</td>\n",
       "      <td>3090</td>\n",
       "      <td>3090</td>\n",
       "      <td>Alive</td>\n",
       "      <td>Alive</td>\n",
       "    </tr>\n",
       "    <tr>\n",
       "      <th>77138</th>\n",
       "      <td>-66</td>\n",
       "      <td>11513</td>\n",
       "      <td>11513</td>\n",
       "      <td>Expired</td>\n",
       "      <td>Expired</td>\n",
       "    </tr>\n",
       "  </tbody>\n",
       "</table>\n",
       "<p>11042 rows × 5 columns</p>\n",
       "</div>"
      ]
     },
     "execution_count": 20,
     "metadata": {},
     "output_type": "execute_result"
    }
   ],
   "execution_count": 20
  },
  {
   "metadata": {
    "ExecuteTime": {
     "end_time": "2025-07-17T11:57:08.557752Z",
     "start_time": "2025-07-17T11:57:08.534599Z"
    }
   },
   "cell_type": "code",
   "source": "patient_df[\"hospitaldischargestatus\"].unique()",
   "id": "8e83934c95dd942",
   "outputs": [
    {
     "data": {
      "text/plain": [
       "array(['Expired', 'Alive'], dtype=object)"
      ]
     },
     "execution_count": 22,
     "metadata": {},
     "output_type": "execute_result"
    }
   ],
   "execution_count": 22
  },
  {
   "metadata": {
    "ExecuteTime": {
     "end_time": "2025-07-16T19:50:02.730407Z",
     "start_time": "2025-07-16T19:50:02.709202Z"
    }
   },
   "cell_type": "code",
   "source": "merged_df.head()",
   "id": "880e5ae88d8b307d",
   "outputs": [
    {
     "data": {
      "text/plain": [
       "   Unnamed: 0  patientunitstayid  patienthealthsystemstayid  gender  age  \\\n",
       "0           0             141168                     128919  Female   70   \n",
       "1           3             141194                     128941    Male   68   \n",
       "2           5             141197                     128943    Male   71   \n",
       "3           6             141203                     128948  Female   77   \n",
       "4           7             141208                     128952  Female   25   \n",
       "\n",
       "   ethnicity  hospitalid  wardid  \\\n",
       "0  Caucasian          59      91   \n",
       "1  Caucasian          73      92   \n",
       "2  Caucasian          67     109   \n",
       "3  Caucasian          66      90   \n",
       "4  Caucasian          73      93   \n",
       "\n",
       "                                   apacheadmissiondx  admissionheight  ...  \\\n",
       "0      Rhythm disturbance (atrial, supraventricular)            152.4  ...   \n",
       "1              Sepsis, renal/UTI (including bladder)            180.3  ...   \n",
       "2                                  Sepsis, pulmonary            162.6  ...   \n",
       "3       Arrest, respiratory (without cardiac arrest)            160.0  ...   \n",
       "4  Overdose, sedatives, hypnotics, antipsychotics...            172.7  ...   \n",
       "\n",
       "    Hgb  WBC x 1000 albumin  anion gap creatinine    pH platelets x 1000  \\\n",
       "0  11.4        19.8     3.0       25.0    260.780  7.20            213.0   \n",
       "1   8.4         4.4     2.3       11.0    154.700  7.31            139.0   \n",
       "2  11.5        29.5     2.9       15.0     82.212   NaN            589.0   \n",
       "3  11.3        12.7     1.4       15.0     49.504  7.45            557.0   \n",
       "4  14.3        11.1     4.7       16.0     70.720   NaN            440.0   \n",
       "\n",
       "  total bilirubin treatmentstring has_Vasopressor  \n",
       "0           88.92             NaN             NaN  \n",
       "1            6.84             NaN             NaN  \n",
       "2            5.13             NaN             NaN  \n",
       "3            6.84             NaN             NaN  \n",
       "4           11.97             NaN             NaN  \n",
       "\n",
       "[5 rows x 53 columns]"
      ],
      "text/html": [
       "<div>\n",
       "<style scoped>\n",
       "    .dataframe tbody tr th:only-of-type {\n",
       "        vertical-align: middle;\n",
       "    }\n",
       "\n",
       "    .dataframe tbody tr th {\n",
       "        vertical-align: top;\n",
       "    }\n",
       "\n",
       "    .dataframe thead th {\n",
       "        text-align: right;\n",
       "    }\n",
       "</style>\n",
       "<table border=\"1\" class=\"dataframe\">\n",
       "  <thead>\n",
       "    <tr style=\"text-align: right;\">\n",
       "      <th></th>\n",
       "      <th>Unnamed: 0</th>\n",
       "      <th>patientunitstayid</th>\n",
       "      <th>patienthealthsystemstayid</th>\n",
       "      <th>gender</th>\n",
       "      <th>age</th>\n",
       "      <th>ethnicity</th>\n",
       "      <th>hospitalid</th>\n",
       "      <th>wardid</th>\n",
       "      <th>apacheadmissiondx</th>\n",
       "      <th>admissionheight</th>\n",
       "      <th>...</th>\n",
       "      <th>Hgb</th>\n",
       "      <th>WBC x 1000</th>\n",
       "      <th>albumin</th>\n",
       "      <th>anion gap</th>\n",
       "      <th>creatinine</th>\n",
       "      <th>pH</th>\n",
       "      <th>platelets x 1000</th>\n",
       "      <th>total bilirubin</th>\n",
       "      <th>treatmentstring</th>\n",
       "      <th>has_Vasopressor</th>\n",
       "    </tr>\n",
       "  </thead>\n",
       "  <tbody>\n",
       "    <tr>\n",
       "      <th>0</th>\n",
       "      <td>0</td>\n",
       "      <td>141168</td>\n",
       "      <td>128919</td>\n",
       "      <td>Female</td>\n",
       "      <td>70</td>\n",
       "      <td>Caucasian</td>\n",
       "      <td>59</td>\n",
       "      <td>91</td>\n",
       "      <td>Rhythm disturbance (atrial, supraventricular)</td>\n",
       "      <td>152.4</td>\n",
       "      <td>...</td>\n",
       "      <td>11.4</td>\n",
       "      <td>19.8</td>\n",
       "      <td>3.0</td>\n",
       "      <td>25.0</td>\n",
       "      <td>260.780</td>\n",
       "      <td>7.20</td>\n",
       "      <td>213.0</td>\n",
       "      <td>88.92</td>\n",
       "      <td>NaN</td>\n",
       "      <td>NaN</td>\n",
       "    </tr>\n",
       "    <tr>\n",
       "      <th>1</th>\n",
       "      <td>3</td>\n",
       "      <td>141194</td>\n",
       "      <td>128941</td>\n",
       "      <td>Male</td>\n",
       "      <td>68</td>\n",
       "      <td>Caucasian</td>\n",
       "      <td>73</td>\n",
       "      <td>92</td>\n",
       "      <td>Sepsis, renal/UTI (including bladder)</td>\n",
       "      <td>180.3</td>\n",
       "      <td>...</td>\n",
       "      <td>8.4</td>\n",
       "      <td>4.4</td>\n",
       "      <td>2.3</td>\n",
       "      <td>11.0</td>\n",
       "      <td>154.700</td>\n",
       "      <td>7.31</td>\n",
       "      <td>139.0</td>\n",
       "      <td>6.84</td>\n",
       "      <td>NaN</td>\n",
       "      <td>NaN</td>\n",
       "    </tr>\n",
       "    <tr>\n",
       "      <th>2</th>\n",
       "      <td>5</td>\n",
       "      <td>141197</td>\n",
       "      <td>128943</td>\n",
       "      <td>Male</td>\n",
       "      <td>71</td>\n",
       "      <td>Caucasian</td>\n",
       "      <td>67</td>\n",
       "      <td>109</td>\n",
       "      <td>Sepsis, pulmonary</td>\n",
       "      <td>162.6</td>\n",
       "      <td>...</td>\n",
       "      <td>11.5</td>\n",
       "      <td>29.5</td>\n",
       "      <td>2.9</td>\n",
       "      <td>15.0</td>\n",
       "      <td>82.212</td>\n",
       "      <td>NaN</td>\n",
       "      <td>589.0</td>\n",
       "      <td>5.13</td>\n",
       "      <td>NaN</td>\n",
       "      <td>NaN</td>\n",
       "    </tr>\n",
       "    <tr>\n",
       "      <th>3</th>\n",
       "      <td>6</td>\n",
       "      <td>141203</td>\n",
       "      <td>128948</td>\n",
       "      <td>Female</td>\n",
       "      <td>77</td>\n",
       "      <td>Caucasian</td>\n",
       "      <td>66</td>\n",
       "      <td>90</td>\n",
       "      <td>Arrest, respiratory (without cardiac arrest)</td>\n",
       "      <td>160.0</td>\n",
       "      <td>...</td>\n",
       "      <td>11.3</td>\n",
       "      <td>12.7</td>\n",
       "      <td>1.4</td>\n",
       "      <td>15.0</td>\n",
       "      <td>49.504</td>\n",
       "      <td>7.45</td>\n",
       "      <td>557.0</td>\n",
       "      <td>6.84</td>\n",
       "      <td>NaN</td>\n",
       "      <td>NaN</td>\n",
       "    </tr>\n",
       "    <tr>\n",
       "      <th>4</th>\n",
       "      <td>7</td>\n",
       "      <td>141208</td>\n",
       "      <td>128952</td>\n",
       "      <td>Female</td>\n",
       "      <td>25</td>\n",
       "      <td>Caucasian</td>\n",
       "      <td>73</td>\n",
       "      <td>93</td>\n",
       "      <td>Overdose, sedatives, hypnotics, antipsychotics...</td>\n",
       "      <td>172.7</td>\n",
       "      <td>...</td>\n",
       "      <td>14.3</td>\n",
       "      <td>11.1</td>\n",
       "      <td>4.7</td>\n",
       "      <td>16.0</td>\n",
       "      <td>70.720</td>\n",
       "      <td>NaN</td>\n",
       "      <td>440.0</td>\n",
       "      <td>11.97</td>\n",
       "      <td>NaN</td>\n",
       "      <td>NaN</td>\n",
       "    </tr>\n",
       "  </tbody>\n",
       "</table>\n",
       "<p>5 rows × 53 columns</p>\n",
       "</div>"
      ]
     },
     "execution_count": 19,
     "metadata": {},
     "output_type": "execute_result"
    }
   ],
   "execution_count": 19
  },
  {
   "metadata": {
    "ExecuteTime": {
     "end_time": "2025-07-16T19:50:04.240218Z",
     "start_time": "2025-07-16T19:50:04.223702Z"
    }
   },
   "cell_type": "code",
   "source": "print(merged_df.columns)",
   "id": "190ba147d19893a2",
   "outputs": [
    {
     "name": "stdout",
     "output_type": "stream",
     "text": [
      "Index(['Unnamed: 0', 'patientunitstayid', 'patienthealthsystemstayid',\n",
      "       'gender', 'age', 'ethnicity', 'hospitalid', 'wardid',\n",
      "       'apacheadmissiondx', 'admissionheight', 'hospitaladmittime24',\n",
      "       'hospitaladmitoffset', 'hospitaladmitsource', 'hospitaldischargeyear',\n",
      "       'hospitaldischargetime24', 'hospitaldischargeoffset',\n",
      "       'hospitaldischargelocation', 'hospitaldischargestatus', 'unittype',\n",
      "       'unitadmittime24', 'unitadmitsource', 'unitstaytype', 'admissionweight',\n",
      "       'dischargeweight', 'unitdischargetime24', 'unitdischargeoffset',\n",
      "       'unitdischargelocation', 'unitdischargestatus', 'uniquepid',\n",
      "       'age_group', 'unit_admit_period', 'admission_type', 'vent', 'eyes',\n",
      "       'motor', 'verbal', 'GCS', 'diagnosisstring', 'icd9code', 'has_COPD',\n",
      "       'has_Diabetes', 'has_Metastasis', 'has_Sepsis_A41_9', 'Hgb',\n",
      "       'WBC x 1000', 'albumin', 'anion gap', 'creatinine', 'pH',\n",
      "       'platelets x 1000', 'total bilirubin', 'treatmentstring',\n",
      "       'has_Vasopressor'],\n",
      "      dtype='object')\n"
     ]
    }
   ],
   "execution_count": 20
  },
  {
   "metadata": {
    "ExecuteTime": {
     "end_time": "2025-07-16T19:50:07.375840Z",
     "start_time": "2025-07-16T19:50:07.369837Z"
    }
   },
   "cell_type": "code",
   "source": [
    "columns = [\"patientunitstayid\", \"gender\", \"age\", \"ethnicity\", \"hospitalid\", \"admission_type\",\n",
    "           \"hospitaladmitoffset\", \"hospitaldischargeoffset\",\n",
    "           \"unitdischargestatus\", \"unitdischargeoffset\",\n",
    "           \"has_COPD\",\"has_Diabetes\", \"has_Metastasis\", \"has_Sepsis_A41_9\", \"GCS\",\n",
    "           \"vent\", \"has_Vasopressor\",\n",
    "           \"WBC x 1000\", \"Hgb\",\n",
    "           \"platelets x 1000\",\n",
    "           \"total bilirubin\", \"creatinine\", \"albumin\", \"pH\", \"anion gap\"]"
   ],
   "id": "2d1beafc9b1b43f1",
   "outputs": [],
   "execution_count": 21
  },
  {
   "metadata": {
    "ExecuteTime": {
     "end_time": "2025-07-16T19:50:08.945085Z",
     "start_time": "2025-07-16T19:50:08.871524Z"
    }
   },
   "cell_type": "code",
   "source": "merged_df = merged_df[columns]",
   "id": "fabc764222fd1864",
   "outputs": [],
   "execution_count": 22
  },
  {
   "metadata": {
    "ExecuteTime": {
     "end_time": "2025-07-16T19:50:11.272312Z",
     "start_time": "2025-07-16T19:50:11.237183Z"
    }
   },
   "cell_type": "code",
   "source": [
    "# Check for missing values\n",
    "missing_values = merged_df.isnull().sum()\n",
    "missing_values"
   ],
   "id": "9c39ae4c001f32f0",
   "outputs": [
    {
     "data": {
      "text/plain": [
       "patientunitstayid              0\n",
       "gender                         0\n",
       "age                            0\n",
       "ethnicity                      0\n",
       "hospitalid                     0\n",
       "admission_type                 0\n",
       "hospitaladmitoffset            0\n",
       "hospitaldischargeoffset        0\n",
       "unitdischargestatus            0\n",
       "unitdischargeoffset            0\n",
       "has_COPD                    4347\n",
       "has_Diabetes                4347\n",
       "has_Metastasis              4347\n",
       "has_Sepsis_A41_9            4347\n",
       "GCS                         4752\n",
       "vent                        4752\n",
       "has_Vasopressor            15146\n",
       "WBC x 1000                  1847\n",
       "Hgb                         1713\n",
       "platelets x 1000            3281\n",
       "total bilirubin            20199\n",
       "creatinine                  1560\n",
       "albumin                    18752\n",
       "pH                         41547\n",
       "anion gap                  12698\n",
       "dtype: int64"
      ]
     },
     "execution_count": 23,
     "metadata": {},
     "output_type": "execute_result"
    }
   ],
   "execution_count": 23
  },
  {
   "metadata": {
    "ExecuteTime": {
     "end_time": "2025-07-16T19:52:00.606483Z",
     "start_time": "2025-07-16T19:52:00.591478Z"
    }
   },
   "cell_type": "code",
   "source": [
    "# Drop columns with more than 50% missing values\n",
    "columns_to_drop = missing_values[missing_values > 0.5 * len(merged_df)].index\n",
    "columns_to_drop"
   ],
   "id": "b0a9155c462ad0ce",
   "outputs": [
    {
     "data": {
      "text/plain": [
       "Index(['pH'], dtype='object')"
      ]
     },
     "execution_count": 24,
     "metadata": {},
     "output_type": "execute_result"
    }
   ],
   "execution_count": 24
  },
  {
   "metadata": {
    "ExecuteTime": {
     "end_time": "2025-07-16T19:52:18.739569Z",
     "start_time": "2025-07-16T19:52:18.720796Z"
    }
   },
   "cell_type": "code",
   "source": "merged_df = merged_df.drop(columns=columns_to_drop)",
   "id": "3146427ba1e4395",
   "outputs": [],
   "execution_count": 25
  },
  {
   "metadata": {
    "ExecuteTime": {
     "end_time": "2025-07-16T19:52:20.098414Z",
     "start_time": "2025-07-16T19:52:20.057791Z"
    }
   },
   "cell_type": "code",
   "source": [
    "missing_values = merged_df.isnull().sum()\n",
    "missing_values"
   ],
   "id": "fde7b4ea6f20f075",
   "outputs": [
    {
     "data": {
      "text/plain": [
       "patientunitstayid              0\n",
       "gender                         0\n",
       "age                            0\n",
       "ethnicity                      0\n",
       "hospitalid                     0\n",
       "admission_type                 0\n",
       "hospitaladmitoffset            0\n",
       "hospitaldischargeoffset        0\n",
       "unitdischargestatus            0\n",
       "unitdischargeoffset            0\n",
       "has_COPD                    4347\n",
       "has_Diabetes                4347\n",
       "has_Metastasis              4347\n",
       "has_Sepsis_A41_9            4347\n",
       "GCS                         4752\n",
       "vent                        4752\n",
       "has_Vasopressor            15146\n",
       "WBC x 1000                  1847\n",
       "Hgb                         1713\n",
       "platelets x 1000            3281\n",
       "total bilirubin            20199\n",
       "creatinine                  1560\n",
       "albumin                    18752\n",
       "anion gap                  12698\n",
       "dtype: int64"
      ]
     },
     "execution_count": 26,
     "metadata": {},
     "output_type": "execute_result"
    }
   ],
   "execution_count": 26
  },
  {
   "metadata": {
    "ExecuteTime": {
     "end_time": "2025-07-16T19:52:27.125990Z",
     "start_time": "2025-07-16T19:52:27.083533Z"
    }
   },
   "cell_type": "code",
   "source": [
    "# drop rows with missing values\n",
    "merged_df = merged_df.dropna()"
   ],
   "id": "d88d33b25226b998",
   "outputs": [],
   "execution_count": 27
  },
  {
   "metadata": {
    "ExecuteTime": {
     "end_time": "2025-07-16T19:52:31.906979Z",
     "start_time": "2025-07-16T19:52:31.873211Z"
    }
   },
   "cell_type": "code",
   "source": [
    "# Check for missing values again\n",
    "missing_values = merged_df.isnull().sum()\n",
    "missing_values"
   ],
   "id": "e8beac3c91ec1ad6",
   "outputs": [
    {
     "data": {
      "text/plain": [
       "patientunitstayid          0\n",
       "gender                     0\n",
       "age                        0\n",
       "ethnicity                  0\n",
       "hospitalid                 0\n",
       "admission_type             0\n",
       "hospitaladmitoffset        0\n",
       "hospitaldischargeoffset    0\n",
       "unitdischargestatus        0\n",
       "unitdischargeoffset        0\n",
       "has_COPD                   0\n",
       "has_Diabetes               0\n",
       "has_Metastasis             0\n",
       "has_Sepsis_A41_9           0\n",
       "GCS                        0\n",
       "vent                       0\n",
       "has_Vasopressor            0\n",
       "WBC x 1000                 0\n",
       "Hgb                        0\n",
       "platelets x 1000           0\n",
       "total bilirubin            0\n",
       "creatinine                 0\n",
       "albumin                    0\n",
       "anion gap                  0\n",
       "dtype: int64"
      ]
     },
     "execution_count": 28,
     "metadata": {},
     "output_type": "execute_result"
    }
   ],
   "execution_count": 28
  },
  {
   "metadata": {
    "ExecuteTime": {
     "end_time": "2025-07-16T19:52:45.179160Z",
     "start_time": "2025-07-16T19:52:44.822157Z"
    }
   },
   "cell_type": "code",
   "source": [
    "# Save the final merged dataset\n",
    "merged_df.to_csv(\"new_final_merged_dataset.csv\", index=False)"
   ],
   "id": "153a6f4df504b49d",
   "outputs": [],
   "execution_count": 29
  }
 ],
 "metadata": {
  "kernelspec": {
   "display_name": "Python 3",
   "language": "python",
   "name": "python3"
  },
  "language_info": {
   "codemirror_mode": {
    "name": "ipython",
    "version": 2
   },
   "file_extension": ".py",
   "mimetype": "text/x-python",
   "name": "python",
   "nbconvert_exporter": "python",
   "pygments_lexer": "ipython2",
   "version": "2.7.6"
  }
 },
 "nbformat": 4,
 "nbformat_minor": 5
}
