{
 "cells": [
  {
   "cell_type": "code",
   "id": "de46256636979c2a",
   "metadata": {
    "ExecuteTime": {
     "end_time": "2025-08-18T18:44:54.416098Z",
     "start_time": "2025-08-18T18:44:51.540457Z"
    }
   },
   "source": [
    "from helper_functions import *\n",
    "from sklearn.model_selection import ParameterGrid\n",
    "import multiprocessing\n",
    "from functools import partial\n",
    "from tqdm import tqdm"
   ],
   "outputs": [
    {
     "name": "stderr",
     "output_type": "stream",
     "text": [
      "C:\\My_Programs\\Anaconda\\envs\\CSMDRMP\\lib\\site-packages\\tqdm\\auto.py:21: TqdmWarning: IProgress not found. Please update jupyter and ipywidgets. See https://ipywidgets.readthedocs.io/en/stable/user_install.html\n",
      "  from .autonotebook import tqdm as notebook_tqdm\n"
     ]
    }
   ],
   "execution_count": 1
  },
  {
   "metadata": {
    "ExecuteTime": {
     "end_time": "2025-08-18T18:44:54.431275Z",
     "start_time": "2025-08-18T18:44:54.424098Z"
    }
   },
   "cell_type": "code",
   "source": [
    "RANDOM_SEED = 42\n",
    "np.random.seed(RANDOM_SEED)\n",
    "models_list=['DCM Model',\n",
    "             'DSM Model',\n",
    "             'Cox Regression Model',\n",
    "             'Cox IPTW Model',\n",
    "             'RSF Model',\n",
    "             'RSF IPTW Model',\n",
    "             'AFT Model',\n",
    "             'AFT IPTW Model']\n",
    "\n",
    "params_grids = {\n",
    "        \"DCM Model\": {\"k\": [3], \"layers\": [[50, 50]], \"iters\": [50], \"learning_rate\": [1e-3]},\n",
    "        \"DCM IPTW Model\": {\"k\": [3], \"layers\": [[50, 50]], \"iters\": [50], \"learning_rate\": [1e-3]},\n",
    "        \"DSM Model\": {\"k\": [3], \"distribution\": [\"Weibull\"], \"layers\": [[100]], \"iters\": [50], \"learning_rate\": [1e-3]},\n",
    "        \"DSM IPTW Model\": {\"k\": [3], \"distribution\": [\"Weibull\"], \"layers\": [[100]], \"iters\": [50], \"learning_rate\": [1e-3]},\n",
    "        \"Cox Regression Model\": {\"penalizer\": [0.01]},\n",
    "        \"Cox IPTW Model\": {\"penalizer\": [0.01]},\n",
    "        \"RSF Model\": {\"n_estimators\": [100], \"max_depth\": [5]},\n",
    "        \"RSF IPTW Model\": {\"n_estimators\": [100], \"max_depth\": [5]},\n",
    "        \"AFT Model\": {\"penalizer\": [0.01]},\n",
    "        \"AFT IPTW Model\": {\"penalizer\": [0.01]}\n",
    "    }"
   ],
   "id": "initial_id",
   "outputs": [],
   "execution_count": 2
  },
  {
   "metadata": {
    "ExecuteTime": {
     "end_time": "2025-08-18T18:18:03.626782Z",
     "start_time": "2025-08-18T18:18:03.607729Z"
    }
   },
   "cell_type": "code",
   "source": [
    "def _run_replicate(params_grids,\n",
    "                   save_dict=None,\n",
    "                   rep: int=100,\n",
    "                   num_group: int=3,\n",
    "                   num_sample: int=1000,\n",
    "                   censor_rate: float=0.3,\n",
    "                   group_hetero_scale: float=2.0,\n",
    "                   random_seed_base=RANDOM_SEED,\n",
    "                   models_list=models_list,\n",
    "                   ):\n",
    "    \"\"\"\n",
    "    Worker function for a single replicate: Runs data generation, processing, model fitting, and metrics.\n",
    "    :param params_grids: list of model parameters\n",
    "    :param save_dict: dictionary with saved simulation parameters\n",
    "    :param rep: number of replicates\n",
    "    :param num_group: number of latent groups\n",
    "    :param censor_rate: censoring rate\n",
    "    :param group_hetero_scale: heterogeneity scale between groups\n",
    "    :param random_seed_base: random seed\n",
    "    :param models_list: list of models to use\n",
    "    :return: None dict of {model: metrics} for this replicate.\n",
    "    \"\"\"\n",
    "    seed = random_seed_base + rep\n",
    "    df, _, lambda0, lambda1, Z, actual_censor_rate, diagnostics = generate_simulated_data(\n",
    "        num_sample=num_sample,\n",
    "        num_group=num_group,\n",
    "        censor_rate=censor_rate,\n",
    "        group_hetero_scale=group_hetero_scale,\n",
    "        random_seed=seed,\n",
    "        **save_dict  # Use fixed parameters\n",
    "    )\n",
    "\n",
    "    # Identify features\n",
    "    categorical_features_list = [col for col in df.columns if col.startswith(\"X_c\")] + [\"treatment\"]\n",
    "\n",
    "    # Process data\n",
    "    processed = processing_data_2_DCM(df,\n",
    "                                      categorical_features_list,\n",
    "                                      train_test_val_size=None)\n",
    "\n",
    "    (X_train, X_val, X_test), (t_train, t_val, t_test), (e_train, e_val, e_test), cat_feats, num_feats = processed\n",
    "\n",
    "    covariates = [col for col in X_train.columns if col not in [\"time\", \"event\", \"treatment\"]]\n",
    "\n",
    "    # Time grid for predictions: Use test set range, excluding exact max to satisfy strict < max condition\n",
    "    min_time = np.min(t_test)\n",
    "    max_time = np.max(t_test)\n",
    "    times = np.linspace(min_time, max_time, 100, endpoint=False)\n",
    "\n",
    "    # True ATE (simplified marginal RMST diff)\n",
    "    true_S0 = expon.sf(times[:, np.newaxis], scale=1/lambda0).mean(axis=1)\n",
    "    true_S1 = expon.sf(times[:, np.newaxis], scale=1/lambda1).mean(axis=1)\n",
    "    true_ate = trapz(true_S1, times) - trapz(true_S0, times)\n",
    "\n",
    "    # Test indices for subsetting\n",
    "    test_idx = X_test.index\n",
    "\n",
    "    rep_results = {}\n",
    "    for model_name in models_list:\n",
    "        print(model_name)\n",
    "        rep_results[model_name] = {}\n",
    "        params_grid = params_grids.get(model_name)\n",
    "\n",
    "        if 'IPTW' in model_name:\n",
    "            model_wrapper = model_dict[model_name](params_grid=params_grid,\n",
    "                                                   covariates=covariates)\n",
    "        else:\n",
    "            model_wrapper = model_dict[model_name](params_grid=params_grid)\n",
    "\n",
    "        model_wrapper.fit((X_train, t_train, e_train), (X_val, t_val, e_val))\n",
    "\n",
    "        metrics = compute_metrics(model_wrapper,\n",
    "                                  X_test, t_test, e_test,\n",
    "                                  times,\n",
    "                                  Z[test_idx], lambda0[test_idx], lambda1[test_idx])\n",
    "        rep_results[model_name] = metrics\n",
    "    return rep_results"
   ],
   "id": "2cb5d21c987cb789",
   "outputs": [],
   "execution_count": 3
  },
  {
   "metadata": {
    "ExecuteTime": {
     "end_time": "2025-08-18T18:18:03.642303Z",
     "start_time": "2025-08-18T18:18:03.633781Z"
    }
   },
   "cell_type": "code",
   "source": [
    "def run_simulation(num_replicates: int=100,\n",
    "                   num_groups_list: list=[1, 3, 5],\n",
    "                   num_sample: int=1000,\n",
    "                   censor_rate: float=0.3,\n",
    "                   group_hetero_scale: float=1.0,\n",
    "                   models_list=models_list,\n",
    "                   params_grids={},\n",
    "                   random_seed_base=RANDOM_SEED,\n",
    "                   fixed_param_seed=0):\n",
    "    \"\"\"\n",
    "    Run simulations\n",
    "    :param num_replicates: number of replicates\n",
    "    :param num_groups_list: list of numbers of latent groups\n",
    "    :param num_sample: number of samples\n",
    "    :param censor_rate: censoring rate\n",
    "    :param group_hetero_scale: heterogeneity scale between groups\n",
    "    :param models_list: list of models to use\n",
    "    :param params_grids: list of model parameters\n",
    "    :param random_seed_base: random seed\n",
    "    :param fixed_param_seed: random seed for the fix parameters\n",
    "    :return:\n",
    "    \"\"\"\n",
    "    results = {}\n",
    "    for num_group in num_groups_list:\n",
    "        results[num_group] = {model: [] for model in models_list}\n",
    "\n",
    "        # Generate fixed parameters once per num_group with fixed seed\n",
    "        _, save_dict, _, _, _, _, _ = generate_simulated_data(\n",
    "            num_sample=num_sample,\n",
    "            num_group=num_group,\n",
    "            censor_rate=censor_rate,\n",
    "            group_hetero_scale=group_hetero_scale,\n",
    "            random_seed=fixed_param_seed  # Fixed seed for parameters\n",
    "        )\n",
    "\n",
    "        # Partial function for worker (fixes non-rep args, including save_dict)\n",
    "        worker = partial(\n",
    "            _run_replicate,\n",
    "            num_group=num_group,\n",
    "            censor_rate=censor_rate,\n",
    "            group_hetero_scale=group_hetero_scale,\n",
    "            random_seed_base=random_seed_base,\n",
    "            models_list=models_list,\n",
    "            params_grids=params_grids,\n",
    "            save_dict=save_dict\n",
    "        )\n",
    "\n",
    "        # Parallelize over replicates\n",
    "        with multiprocessing.Pool(processes=4) as pool:\n",
    "            rep_outputs = list(\n",
    "                tqdm(\n",
    "                    pool.imap(\n",
    "                        worker, range(num_replicates)\n",
    "                    ), total=num_replicates, desc=f\"Processing replicates for num_group={num_group}\"\n",
    "                )\n",
    "            )\n",
    "\n",
    "        # Collect results\n",
    "        for rep_result in rep_outputs:\n",
    "            for model, metrics in rep_result.items():\n",
    "                results[num_group][model].append(metrics)\n",
    "\n",
    "    # Aggregate results\n",
    "    agg_results = {}\n",
    "    for num_group in num_groups_list:\n",
    "        agg_results[num_group] = {model: {k: np.mean([m[k] for m in results[num_group][model]]) for k in results[num_group][model][0]} for model in models_list}\n",
    "\n",
    "    return agg_results"
   ],
   "id": "f5e4e771aa7017b3",
   "outputs": [],
   "execution_count": 4
  },
  {
   "metadata": {
    "ExecuteTime": {
     "end_time": "2025-08-18T18:26:26.412391Z",
     "start_time": "2025-08-18T18:18:05.133891Z"
    }
   },
   "cell_type": "code",
   "source": [
    "# Run the simulation (adjust replicates/groups for your compute; use fixed_param_seed for consistent params across reps)\n",
    "agg_results = run_simulation(\n",
    "    num_replicates=1,  # Balance speed and precision; 100+ for tight SEs\n",
    "    num_groups_list=[1],  # Test sensitivity to heterogeneity\n",
    "    num_sample=10,  # Sample size; increase for better estimation\n",
    "    censor_rate=0.3,  # Target censoring; administrative method ensures ~this value\n",
    "    group_hetero_scale=1.0,  # Heterogeneity; higher favors DCM\n",
    "    models_list=models_list,\n",
    "    params_grids=params_grids,\n",
    "    random_seed_base=42,  # For reproducibility\n",
    "    fixed_param_seed=0  # Fixed seed for save_dict (parameters like betas)\n",
    ")\n",
    "\n",
    "# Convert to DataFrame and display (statistically, add SEs for inference)\n",
    "df_results = results_to_dataframe(agg_results)\n",
    "print(df_results)"
   ],
   "id": "3fd9fd46d1109b85",
   "outputs": [
    {
     "name": "stderr",
     "output_type": "stream",
     "text": [
      "Processing replicates for num_group=1:   0%|          | 0/1 [00:00<?, ?it/s]"
     ]
    }
   ],
   "execution_count": null
  },
  {
   "metadata": {},
   "cell_type": "code",
   "source": [
    "# Optional: Compute standard errors (SE) for each metric per group/model\n",
    "se_results = {}\n",
    "for num_group in agg_results:\n",
    "    se_results[num_group] = {model: {k: np.std([m[k] for m in agg_results[num_group][model]]) / np.sqrt(len(agg_results[num_group][model])) for k in agg_results[num_group][model]} for model in agg_results[num_group]}\n",
    "df_se = pd.DataFrame.from_dict({(num_group, model): se_results[num_group][model] for num_group in se_results for model in se_results[num_group]}, orient='index')\n",
    "print(\"Standard Errors:\\n\", df_se)"
   ],
   "id": "64d17449817a2cbd",
   "outputs": [],
   "execution_count": null
  },
  {
   "metadata": {},
   "cell_type": "code",
   "outputs": [],
   "execution_count": null,
   "source": "",
   "id": "9097a55afb0ae459"
  }
 ],
 "metadata": {
  "kernelspec": {
   "display_name": "Python 3",
   "language": "python",
   "name": "python3"
  },
  "language_info": {
   "codemirror_mode": {
    "name": "ipython",
    "version": 2
   },
   "file_extension": ".py",
   "mimetype": "text/x-python",
   "name": "python",
   "nbconvert_exporter": "python",
   "pygments_lexer": "ipython2",
   "version": "2.7.6"
  }
 },
 "nbformat": 4,
 "nbformat_minor": 5
}
