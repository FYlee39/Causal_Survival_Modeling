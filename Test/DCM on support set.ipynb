{
 "cells": [
  {
   "metadata": {
    "ExecuteTime": {
     "end_time": "2025-06-14T21:06:36.146750Z",
     "start_time": "2025-06-14T21:06:36.081875Z"
    }
   },
   "cell_type": "code",
   "source": [
    "import sys\n",
    "\n",
    "sys.path.append('../')\n",
    "from auton_survival import datasets\n",
    "outcomes, features = datasets.load_support()"
   ],
   "id": "c74e1e76e408bbf2",
   "outputs": [],
   "execution_count": 38
  },
  {
   "metadata": {
    "ExecuteTime": {
     "end_time": "2025-06-14T21:06:36.967511Z",
     "start_time": "2025-06-14T21:06:36.913653Z"
    }
   },
   "cell_type": "code",
   "source": [
    "from auton_survival.preprocessing import Preprocessor\n",
    "\n",
    "cat_feats = ['sex', 'dzgroup', 'dzclass', 'income', 'race', 'ca']\n",
    "num_feats = ['age', 'num.co', 'meanbp', 'wblc', 'hrt', 'resp',\n",
    "             'temp', 'pafi', 'alb', 'bili', 'crea', 'sod', 'ph',\n",
    "             'glucose', 'bun', 'urine', 'adlp', 'adls']\n",
    "\n",
    "\n",
    "features = Preprocessor().fit_transform(features, cat_feats=cat_feats, num_feats=num_feats)"
   ],
   "id": "149960d9d4190fa9",
   "outputs": [],
   "execution_count": 39
  },
  {
   "metadata": {
    "ExecuteTime": {
     "end_time": "2025-06-14T21:06:38.051675Z",
     "start_time": "2025-06-14T21:06:38.032700Z"
    }
   },
   "cell_type": "code",
   "source": [
    "import numpy as np\n",
    "\n",
    "horizons = [0.25, 0.5, 0.75]\n",
    "times = np.quantile(outcomes.time[outcomes.event==1], horizons).tolist()"
   ],
   "id": "333115929dc91943",
   "outputs": [],
   "execution_count": 40
  },
  {
   "metadata": {
    "ExecuteTime": {
     "end_time": "2025-06-14T21:06:39.243506Z",
     "start_time": "2025-06-14T21:06:39.220566Z"
    }
   },
   "cell_type": "code",
   "source": [
    "x, t, e = features.values, outcomes.time.values, outcomes.event.values\n",
    "\n",
    "n = len(x)\n",
    "\n",
    "tr_size = int(n * 0.70)\n",
    "vl_size = int(n * 0.10)\n",
    "te_size = int(n * 0.20)\n",
    "\n",
    "x_train, x_test, x_val = x[:tr_size], x[-te_size:], x[tr_size:tr_size+vl_size]\n",
    "t_train, t_test, t_val = t[:tr_size], t[-te_size:], t[tr_size:tr_size+vl_size]\n",
    "e_train, e_test, e_val = e[:tr_size], e[-te_size:], e[tr_size:tr_size+vl_size]\n",
    "\n",
    "t = outcomes[\"time\"]\n",
    "e = outcomes[\"event\"]\n",
    "quantiles = [0.25, 0.5, 0.75]\n",
    "quantiles = np.quantile(t[e == 1], quantiles)\n",
    "quantiles"
   ],
   "id": "61001941c42815ac",
   "outputs": [
    {
     "data": {
      "text/plain": [
       "array([ 14.,  58., 252.])"
      ]
     },
     "execution_count": 41,
     "metadata": {},
     "output_type": "execute_result"
    }
   ],
   "execution_count": 41
  },
  {
   "metadata": {
    "ExecuteTime": {
     "end_time": "2025-06-14T21:06:40.955939Z",
     "start_time": "2025-06-14T21:06:40.949955Z"
    }
   },
   "cell_type": "code",
   "source": "from sklearn.model_selection import ParameterGrid",
   "id": "7ec919696c8e9cb0",
   "outputs": [],
   "execution_count": 42
  },
  {
   "metadata": {
    "ExecuteTime": {
     "end_time": "2025-06-14T21:06:41.946291Z",
     "start_time": "2025-06-14T21:06:41.927343Z"
    }
   },
   "cell_type": "code",
   "source": [
    "param_grid = {'k' : [3, 4, 6],\n",
    "              'learning_rate' : [1e-4, 1e-3],\n",
    "              'layers' : [ [], [100], [100, 100] ]\n",
    "             }\n",
    "params = ParameterGrid(param_grid)"
   ],
   "id": "728d8ac548d2dc89",
   "outputs": [],
   "execution_count": 43
  },
  {
   "metadata": {
    "ExecuteTime": {
     "end_time": "2025-06-14T21:51:26.889563Z",
     "start_time": "2025-06-14T21:50:20.022291Z"
    }
   },
   "cell_type": "code",
   "source": [
    "from auton_survival.models.dcm import DeepCoxMixtures\n",
    "\n",
    "model = DeepCoxMixtures()\n",
    "\n",
    "# The fit method is called to train the model\n",
    "model.fit(x_train, t_train, e_train, iters=100, val_data=(x_val, t_val, e_val))"
   ],
   "id": "835cb6a8f85a18",
   "outputs": [
    {
     "name": "stderr",
     "output_type": "stream",
     "text": [
      "  0%|          | 0/100 [00:00<?, ?it/s]D:\\anaconda3\\envs\\FLCausalMixture\\lib\\site-packages\\auton_survival\\models\\dcm\\dcm_utilities.py:105: RuntimeWarning: invalid value encountered in log\n",
      "  probs = gates+np.log(event_probs)\n",
      "  1%|          | 1/100 [00:00<00:49,  1.99it/s]D:\\anaconda3\\envs\\FLCausalMixture\\lib\\site-packages\\auton_survival\\models\\dcm\\dcm_utilities.py:105: RuntimeWarning: divide by zero encountered in log\n",
      "  probs = gates+np.log(event_probs)\n",
      " 90%|█████████ | 90/100 [01:06<00:07,  1.35it/s]\n"
     ]
    },
    {
     "data": {
      "text/plain": [
       "<auton_survival.models.dcm.DeepCoxMixtures at 0x124d150f3d0>"
      ]
     },
     "execution_count": 48,
     "metadata": {},
     "output_type": "execute_result"
    }
   ],
   "execution_count": 48
  },
  {
   "metadata": {
    "ExecuteTime": {
     "end_time": "2025-06-14T21:54:27.098963Z",
     "start_time": "2025-06-14T21:54:27.089989Z"
    }
   },
   "cell_type": "code",
   "source": [
    "out_risk = model.predict_survival(x_test, times)\n",
    "out_survival = model.predict_survival(x_test, times)"
   ],
   "id": "b1bf105ff1085202",
   "outputs": [],
   "execution_count": 52
  },
  {
   "metadata": {
    "ExecuteTime": {
     "end_time": "2025-06-14T21:54:28.615985Z",
     "start_time": "2025-06-14T21:54:28.606012Z"
    }
   },
   "cell_type": "code",
   "source": "from sksurv.metrics import concordance_index_ipcw, brier_score, cumulative_dynamic_auc",
   "id": "708d3d943805ade7",
   "outputs": [],
   "execution_count": 53
  },
  {
   "metadata": {
    "ExecuteTime": {
     "end_time": "2025-06-14T21:54:29.683239Z",
     "start_time": "2025-06-14T21:54:29.502723Z"
    }
   },
   "cell_type": "code",
   "source": [
    "cis = []\n",
    "brs = []\n",
    "\n",
    "et_train = np.array([(e_train[i], t_train[i]) for i in range(len(e_train))],\n",
    "                 dtype = [('e', bool), ('t', float)])\n",
    "et_test = np.array([(e_test[i], t_test[i]) for i in range(len(e_test))],\n",
    "                 dtype = [('e', bool), ('t', float)])\n",
    "et_val = np.array([(e_val[i], t_val[i]) for i in range(len(e_val))],\n",
    "                 dtype = [('e', bool), ('t', float)])\n",
    "\n",
    "for i, _ in enumerate(times):\n",
    "    cis.append(concordance_index_ipcw(et_train, et_test, out_risk[:, i], times[i])[0])\n",
    "brs.append(brier_score(et_train, et_test, out_survival, times)[1])\n",
    "roc_auc = []\n",
    "for i, _ in enumerate(times):\n",
    "    roc_auc.append(cumulative_dynamic_auc(et_train, et_test, out_risk[:, i], times[i])[0])\n",
    "for horizon in enumerate(horizons):\n",
    "    print(f\"For {horizon[1]} quantile,\")\n",
    "    print(\"TD Concordance Index:\", cis[horizon[0]])\n",
    "    print(\"Brier Score:\", brs[0][horizon[0]])\n",
    "    print(\"ROC AUC \", roc_auc[horizon[0]][0], \"\\n\")"
   ],
   "id": "a07e1b33ce7554f9",
   "outputs": [
    {
     "name": "stdout",
     "output_type": "stream",
     "text": [
      "For 0.25 quantile,\n",
      "TD Concordance Index: 0.2456293458878584\n",
      "Brier Score: 0.10939352729231262\n",
      "ROC AUC  0.23506700811344128 \n",
      "\n",
      "For 0.5 quantile,\n",
      "TD Concordance Index: 0.3004553118898771\n",
      "Brier Score: 0.183120045616337\n",
      "ROC AUC  0.2791956689868523 \n",
      "\n",
      "For 0.75 quantile,\n",
      "TD Concordance Index: 0.33226686629755275\n",
      "Brier Score: 0.21822007027782503\n",
      "ROC AUC  0.28172290543405826 \n",
      "\n"
     ]
    }
   ],
   "execution_count": 54
  },
  {
   "metadata": {},
   "cell_type": "code",
   "outputs": [],
   "execution_count": null,
   "source": "",
   "id": "f391f8b78713b563"
  }
 ],
 "metadata": {
  "kernelspec": {
   "display_name": "FLCausalMixture",
   "language": "python",
   "name": "flcausalmixture"
  },
  "language_info": {
   "codemirror_mode": {
    "name": "ipython",
    "version": 2
   },
   "file_extension": ".py",
   "mimetype": "text/x-python",
   "name": "python",
   "nbconvert_exporter": "python",
   "pygments_lexer": "ipython2",
   "version": "2.7.6"
  }
 },
 "nbformat": 4,
 "nbformat_minor": 5
}
