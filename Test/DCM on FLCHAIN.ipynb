{
 "cells": [
  {
   "cell_type": "code",
   "id": "b343f46acab69bb1",
   "metadata": {
    "ExecuteTime": {
     "end_time": "2025-06-17T20:35:34.265017Z",
     "start_time": "2025-06-17T20:35:34.257038Z"
    }
   },
   "source": [
    "from auton_survival.datasets import load_dataset\n",
    "from auton_survival.preprocessing import Preprocessor\n",
    "from auton_survival.models.dcm import DeepCoxMixtures\n",
    "from sklearn.preprocessing import StandardScaler\n",
    "import pandas as pd"
   ],
   "outputs": [],
   "execution_count": 3
  },
  {
   "metadata": {
    "ExecuteTime": {
     "end_time": "2025-06-17T20:39:17.446525Z",
     "start_time": "2025-06-17T20:39:17.415609Z"
    }
   },
   "cell_type": "code",
   "source": [
    "data = pd.read_csv('flchain.csv')\n",
    "data.head()"
   ],
   "id": "7167bcdf6f29420a",
   "outputs": [
    {
     "data": {
      "text/plain": [
       "   Unnamed: 0   age  sex  sample.yr  kappa  lambda  flc.grp  creatinine  mgus  \\\n",
       "0           0  97.0  0.0       1997   5.70   4.860       10         1.7   0.0   \n",
       "1           1  92.0  0.0       2000   0.87   0.683        1         0.9   0.0   \n",
       "2           2  94.0  0.0       1997   4.36   3.850       10         1.4   0.0   \n",
       "3           3  92.0  0.0       1996   2.42   2.220        9         1.0   0.0   \n",
       "4           4  93.0  0.0       1996   1.32   1.690        6         1.1   0.0   \n",
       "\n",
       "   futime  death  \n",
       "0    85.0    1.0  \n",
       "1  1281.0    1.0  \n",
       "2    69.0    1.0  \n",
       "3   115.0    1.0  \n",
       "4  1039.0    1.0  "
      ],
      "text/html": [
       "<div>\n",
       "<style scoped>\n",
       "    .dataframe tbody tr th:only-of-type {\n",
       "        vertical-align: middle;\n",
       "    }\n",
       "\n",
       "    .dataframe tbody tr th {\n",
       "        vertical-align: top;\n",
       "    }\n",
       "\n",
       "    .dataframe thead th {\n",
       "        text-align: right;\n",
       "    }\n",
       "</style>\n",
       "<table border=\"1\" class=\"dataframe\">\n",
       "  <thead>\n",
       "    <tr style=\"text-align: right;\">\n",
       "      <th></th>\n",
       "      <th>Unnamed: 0</th>\n",
       "      <th>age</th>\n",
       "      <th>sex</th>\n",
       "      <th>sample.yr</th>\n",
       "      <th>kappa</th>\n",
       "      <th>lambda</th>\n",
       "      <th>flc.grp</th>\n",
       "      <th>creatinine</th>\n",
       "      <th>mgus</th>\n",
       "      <th>futime</th>\n",
       "      <th>death</th>\n",
       "    </tr>\n",
       "  </thead>\n",
       "  <tbody>\n",
       "    <tr>\n",
       "      <th>0</th>\n",
       "      <td>0</td>\n",
       "      <td>97.0</td>\n",
       "      <td>0.0</td>\n",
       "      <td>1997</td>\n",
       "      <td>5.70</td>\n",
       "      <td>4.860</td>\n",
       "      <td>10</td>\n",
       "      <td>1.7</td>\n",
       "      <td>0.0</td>\n",
       "      <td>85.0</td>\n",
       "      <td>1.0</td>\n",
       "    </tr>\n",
       "    <tr>\n",
       "      <th>1</th>\n",
       "      <td>1</td>\n",
       "      <td>92.0</td>\n",
       "      <td>0.0</td>\n",
       "      <td>2000</td>\n",
       "      <td>0.87</td>\n",
       "      <td>0.683</td>\n",
       "      <td>1</td>\n",
       "      <td>0.9</td>\n",
       "      <td>0.0</td>\n",
       "      <td>1281.0</td>\n",
       "      <td>1.0</td>\n",
       "    </tr>\n",
       "    <tr>\n",
       "      <th>2</th>\n",
       "      <td>2</td>\n",
       "      <td>94.0</td>\n",
       "      <td>0.0</td>\n",
       "      <td>1997</td>\n",
       "      <td>4.36</td>\n",
       "      <td>3.850</td>\n",
       "      <td>10</td>\n",
       "      <td>1.4</td>\n",
       "      <td>0.0</td>\n",
       "      <td>69.0</td>\n",
       "      <td>1.0</td>\n",
       "    </tr>\n",
       "    <tr>\n",
       "      <th>3</th>\n",
       "      <td>3</td>\n",
       "      <td>92.0</td>\n",
       "      <td>0.0</td>\n",
       "      <td>1996</td>\n",
       "      <td>2.42</td>\n",
       "      <td>2.220</td>\n",
       "      <td>9</td>\n",
       "      <td>1.0</td>\n",
       "      <td>0.0</td>\n",
       "      <td>115.0</td>\n",
       "      <td>1.0</td>\n",
       "    </tr>\n",
       "    <tr>\n",
       "      <th>4</th>\n",
       "      <td>4</td>\n",
       "      <td>93.0</td>\n",
       "      <td>0.0</td>\n",
       "      <td>1996</td>\n",
       "      <td>1.32</td>\n",
       "      <td>1.690</td>\n",
       "      <td>6</td>\n",
       "      <td>1.1</td>\n",
       "      <td>0.0</td>\n",
       "      <td>1039.0</td>\n",
       "      <td>1.0</td>\n",
       "    </tr>\n",
       "  </tbody>\n",
       "</table>\n",
       "</div>"
      ]
     },
     "execution_count": 10,
     "metadata": {},
     "output_type": "execute_result"
    }
   ],
   "execution_count": 10
  },
  {
   "metadata": {
    "ExecuteTime": {
     "end_time": "2025-06-17T20:39:32.617489Z",
     "start_time": "2025-06-17T20:39:32.582582Z"
    }
   },
   "cell_type": "code",
   "source": "data.info()",
   "id": "1c45da76f566ed12",
   "outputs": [
    {
     "name": "stdout",
     "output_type": "stream",
     "text": [
      "<class 'pandas.core.frame.DataFrame'>\n",
      "RangeIndex: 6524 entries, 0 to 6523\n",
      "Data columns (total 11 columns):\n",
      " #   Column      Non-Null Count  Dtype  \n",
      "---  ------      --------------  -----  \n",
      " 0   Unnamed: 0  6524 non-null   int64  \n",
      " 1   age         6524 non-null   float64\n",
      " 2   sex         6524 non-null   float64\n",
      " 3   sample.yr   6524 non-null   int64  \n",
      " 4   kappa       6524 non-null   float64\n",
      " 5   lambda      6524 non-null   float64\n",
      " 6   flc.grp     6524 non-null   int64  \n",
      " 7   creatinine  6524 non-null   float64\n",
      " 8   mgus        6524 non-null   float64\n",
      " 9   futime      6524 non-null   float64\n",
      " 10  death       6524 non-null   float64\n",
      "dtypes: float64(8), int64(3)\n",
      "memory usage: 560.8 KB\n"
     ]
    }
   ],
   "execution_count": 12
  },
  {
   "metadata": {
    "ExecuteTime": {
     "end_time": "2025-06-17T20:47:37.641408Z",
     "start_time": "2025-06-17T20:47:37.602513Z"
    }
   },
   "cell_type": "code",
   "source": "data.describe()",
   "id": "22da01747798a68b",
   "outputs": [
    {
     "data": {
      "text/plain": [
       "       Unnamed: 0          age          sex    sample.yr        kappa  \\\n",
       "count  6524.00000  6524.000000  6524.000000  6524.000000  6524.000000   \n",
       "mean   3261.50000    65.057787     0.449418  1996.623237     1.451986   \n",
       "std    1883.46091    10.682585     0.497473     1.416592     0.936699   \n",
       "min       0.00000    50.000000     0.000000  1995.000000     0.010000   \n",
       "25%    1630.75000    56.000000     0.000000  1996.000000     0.960000   \n",
       "50%    3261.50000    63.500000     0.000000  1996.000000     1.280000   \n",
       "75%    4892.25000    73.000000     1.000000  1997.000000     1.700000   \n",
       "max    6523.00000   101.000000     1.000000  2003.000000    20.500000   \n",
       "\n",
       "            lambda      flc.grp   creatinine         mgus       futime  \\\n",
       "count  6524.000000  6524.000000  6524.000000  6524.000000  6524.000000   \n",
       "mean      1.728203     5.537860     1.093516     0.014715  3647.502146   \n",
       "std       1.074378     2.884023     0.416507     0.120418  1458.287949   \n",
       "min       0.043300     1.000000     0.400000     0.000000     0.000000   \n",
       "25%       1.210000     3.000000     0.900000     0.000000  2907.500000   \n",
       "50%       1.520000     6.000000     1.000000     0.000000  4303.000000   \n",
       "75%       1.950000     8.000000     1.200000     0.000000  4771.000000   \n",
       "max      26.600000    10.000000    10.800000     1.000000  5166.000000   \n",
       "\n",
       "             death  \n",
       "count  6524.000000  \n",
       "mean      0.300736  \n",
       "std       0.458613  \n",
       "min       0.000000  \n",
       "25%       0.000000  \n",
       "50%       0.000000  \n",
       "75%       1.000000  \n",
       "max       1.000000  "
      ],
      "text/html": [
       "<div>\n",
       "<style scoped>\n",
       "    .dataframe tbody tr th:only-of-type {\n",
       "        vertical-align: middle;\n",
       "    }\n",
       "\n",
       "    .dataframe tbody tr th {\n",
       "        vertical-align: top;\n",
       "    }\n",
       "\n",
       "    .dataframe thead th {\n",
       "        text-align: right;\n",
       "    }\n",
       "</style>\n",
       "<table border=\"1\" class=\"dataframe\">\n",
       "  <thead>\n",
       "    <tr style=\"text-align: right;\">\n",
       "      <th></th>\n",
       "      <th>Unnamed: 0</th>\n",
       "      <th>age</th>\n",
       "      <th>sex</th>\n",
       "      <th>sample.yr</th>\n",
       "      <th>kappa</th>\n",
       "      <th>lambda</th>\n",
       "      <th>flc.grp</th>\n",
       "      <th>creatinine</th>\n",
       "      <th>mgus</th>\n",
       "      <th>futime</th>\n",
       "      <th>death</th>\n",
       "    </tr>\n",
       "  </thead>\n",
       "  <tbody>\n",
       "    <tr>\n",
       "      <th>count</th>\n",
       "      <td>6524.00000</td>\n",
       "      <td>6524.000000</td>\n",
       "      <td>6524.000000</td>\n",
       "      <td>6524.000000</td>\n",
       "      <td>6524.000000</td>\n",
       "      <td>6524.000000</td>\n",
       "      <td>6524.000000</td>\n",
       "      <td>6524.000000</td>\n",
       "      <td>6524.000000</td>\n",
       "      <td>6524.000000</td>\n",
       "      <td>6524.000000</td>\n",
       "    </tr>\n",
       "    <tr>\n",
       "      <th>mean</th>\n",
       "      <td>3261.50000</td>\n",
       "      <td>65.057787</td>\n",
       "      <td>0.449418</td>\n",
       "      <td>1996.623237</td>\n",
       "      <td>1.451986</td>\n",
       "      <td>1.728203</td>\n",
       "      <td>5.537860</td>\n",
       "      <td>1.093516</td>\n",
       "      <td>0.014715</td>\n",
       "      <td>3647.502146</td>\n",
       "      <td>0.300736</td>\n",
       "    </tr>\n",
       "    <tr>\n",
       "      <th>std</th>\n",
       "      <td>1883.46091</td>\n",
       "      <td>10.682585</td>\n",
       "      <td>0.497473</td>\n",
       "      <td>1.416592</td>\n",
       "      <td>0.936699</td>\n",
       "      <td>1.074378</td>\n",
       "      <td>2.884023</td>\n",
       "      <td>0.416507</td>\n",
       "      <td>0.120418</td>\n",
       "      <td>1458.287949</td>\n",
       "      <td>0.458613</td>\n",
       "    </tr>\n",
       "    <tr>\n",
       "      <th>min</th>\n",
       "      <td>0.00000</td>\n",
       "      <td>50.000000</td>\n",
       "      <td>0.000000</td>\n",
       "      <td>1995.000000</td>\n",
       "      <td>0.010000</td>\n",
       "      <td>0.043300</td>\n",
       "      <td>1.000000</td>\n",
       "      <td>0.400000</td>\n",
       "      <td>0.000000</td>\n",
       "      <td>0.000000</td>\n",
       "      <td>0.000000</td>\n",
       "    </tr>\n",
       "    <tr>\n",
       "      <th>25%</th>\n",
       "      <td>1630.75000</td>\n",
       "      <td>56.000000</td>\n",
       "      <td>0.000000</td>\n",
       "      <td>1996.000000</td>\n",
       "      <td>0.960000</td>\n",
       "      <td>1.210000</td>\n",
       "      <td>3.000000</td>\n",
       "      <td>0.900000</td>\n",
       "      <td>0.000000</td>\n",
       "      <td>2907.500000</td>\n",
       "      <td>0.000000</td>\n",
       "    </tr>\n",
       "    <tr>\n",
       "      <th>50%</th>\n",
       "      <td>3261.50000</td>\n",
       "      <td>63.500000</td>\n",
       "      <td>0.000000</td>\n",
       "      <td>1996.000000</td>\n",
       "      <td>1.280000</td>\n",
       "      <td>1.520000</td>\n",
       "      <td>6.000000</td>\n",
       "      <td>1.000000</td>\n",
       "      <td>0.000000</td>\n",
       "      <td>4303.000000</td>\n",
       "      <td>0.000000</td>\n",
       "    </tr>\n",
       "    <tr>\n",
       "      <th>75%</th>\n",
       "      <td>4892.25000</td>\n",
       "      <td>73.000000</td>\n",
       "      <td>1.000000</td>\n",
       "      <td>1997.000000</td>\n",
       "      <td>1.700000</td>\n",
       "      <td>1.950000</td>\n",
       "      <td>8.000000</td>\n",
       "      <td>1.200000</td>\n",
       "      <td>0.000000</td>\n",
       "      <td>4771.000000</td>\n",
       "      <td>1.000000</td>\n",
       "    </tr>\n",
       "    <tr>\n",
       "      <th>max</th>\n",
       "      <td>6523.00000</td>\n",
       "      <td>101.000000</td>\n",
       "      <td>1.000000</td>\n",
       "      <td>2003.000000</td>\n",
       "      <td>20.500000</td>\n",
       "      <td>26.600000</td>\n",
       "      <td>10.000000</td>\n",
       "      <td>10.800000</td>\n",
       "      <td>1.000000</td>\n",
       "      <td>5166.000000</td>\n",
       "      <td>1.000000</td>\n",
       "    </tr>\n",
       "  </tbody>\n",
       "</table>\n",
       "</div>"
      ]
     },
     "execution_count": 15,
     "metadata": {},
     "output_type": "execute_result"
    }
   ],
   "execution_count": 15
  },
  {
   "metadata": {
    "ExecuteTime": {
     "end_time": "2025-06-17T20:42:07.393245Z",
     "start_time": "2025-06-17T20:42:07.374297Z"
    }
   },
   "cell_type": "code",
   "source": [
    "outcomes = data.copy()\n",
    "outcomes['event'] =  data['death']\n",
    "outcomes['time'] = data['futime']\n",
    "outcomes = outcomes[['event', 'time']]\n",
    "outcomes.head()"
   ],
   "id": "a48913670a418fb",
   "outputs": [
    {
     "data": {
      "text/plain": [
       "   event    time\n",
       "0    1.0    85.0\n",
       "1    1.0  1281.0\n",
       "2    1.0    69.0\n",
       "3    1.0   115.0\n",
       "4    1.0  1039.0"
      ],
      "text/html": [
       "<div>\n",
       "<style scoped>\n",
       "    .dataframe tbody tr th:only-of-type {\n",
       "        vertical-align: middle;\n",
       "    }\n",
       "\n",
       "    .dataframe tbody tr th {\n",
       "        vertical-align: top;\n",
       "    }\n",
       "\n",
       "    .dataframe thead th {\n",
       "        text-align: right;\n",
       "    }\n",
       "</style>\n",
       "<table border=\"1\" class=\"dataframe\">\n",
       "  <thead>\n",
       "    <tr style=\"text-align: right;\">\n",
       "      <th></th>\n",
       "      <th>event</th>\n",
       "      <th>time</th>\n",
       "    </tr>\n",
       "  </thead>\n",
       "  <tbody>\n",
       "    <tr>\n",
       "      <th>0</th>\n",
       "      <td>1.0</td>\n",
       "      <td>85.0</td>\n",
       "    </tr>\n",
       "    <tr>\n",
       "      <th>1</th>\n",
       "      <td>1.0</td>\n",
       "      <td>1281.0</td>\n",
       "    </tr>\n",
       "    <tr>\n",
       "      <th>2</th>\n",
       "      <td>1.0</td>\n",
       "      <td>69.0</td>\n",
       "    </tr>\n",
       "    <tr>\n",
       "      <th>3</th>\n",
       "      <td>1.0</td>\n",
       "      <td>115.0</td>\n",
       "    </tr>\n",
       "    <tr>\n",
       "      <th>4</th>\n",
       "      <td>1.0</td>\n",
       "      <td>1039.0</td>\n",
       "    </tr>\n",
       "  </tbody>\n",
       "</table>\n",
       "</div>"
      ]
     },
     "execution_count": 13,
     "metadata": {},
     "output_type": "execute_result"
    }
   ],
   "execution_count": 13
  },
  {
   "metadata": {
    "ExecuteTime": {
     "end_time": "2025-06-17T20:49:00.256151Z",
     "start_time": "2025-06-17T20:49:00.240194Z"
    }
   },
   "cell_type": "code",
   "source": [
    "cat_feats = ['sex', 'mgus', 'flc.grp']\n",
    "num_feats = ['age', 'sample.yr', 'kappa', 'lambda', 'creatinine']\n",
    "\n",
    "features = data[cat_feats + num_feats]\n",
    "features.head()"
   ],
   "id": "2830482e8ecefcf8",
   "outputs": [
    {
     "data": {
      "text/plain": [
       "   sex  mgus  flc.grp   age  sample.yr  kappa  lambda  creatinine\n",
       "0  0.0   0.0       10  97.0       1997   5.70   4.860         1.7\n",
       "1  0.0   0.0        1  92.0       2000   0.87   0.683         0.9\n",
       "2  0.0   0.0       10  94.0       1997   4.36   3.850         1.4\n",
       "3  0.0   0.0        9  92.0       1996   2.42   2.220         1.0\n",
       "4  0.0   0.0        6  93.0       1996   1.32   1.690         1.1"
      ],
      "text/html": [
       "<div>\n",
       "<style scoped>\n",
       "    .dataframe tbody tr th:only-of-type {\n",
       "        vertical-align: middle;\n",
       "    }\n",
       "\n",
       "    .dataframe tbody tr th {\n",
       "        vertical-align: top;\n",
       "    }\n",
       "\n",
       "    .dataframe thead th {\n",
       "        text-align: right;\n",
       "    }\n",
       "</style>\n",
       "<table border=\"1\" class=\"dataframe\">\n",
       "  <thead>\n",
       "    <tr style=\"text-align: right;\">\n",
       "      <th></th>\n",
       "      <th>sex</th>\n",
       "      <th>mgus</th>\n",
       "      <th>flc.grp</th>\n",
       "      <th>age</th>\n",
       "      <th>sample.yr</th>\n",
       "      <th>kappa</th>\n",
       "      <th>lambda</th>\n",
       "      <th>creatinine</th>\n",
       "    </tr>\n",
       "  </thead>\n",
       "  <tbody>\n",
       "    <tr>\n",
       "      <th>0</th>\n",
       "      <td>0.0</td>\n",
       "      <td>0.0</td>\n",
       "      <td>10</td>\n",
       "      <td>97.0</td>\n",
       "      <td>1997</td>\n",
       "      <td>5.70</td>\n",
       "      <td>4.860</td>\n",
       "      <td>1.7</td>\n",
       "    </tr>\n",
       "    <tr>\n",
       "      <th>1</th>\n",
       "      <td>0.0</td>\n",
       "      <td>0.0</td>\n",
       "      <td>1</td>\n",
       "      <td>92.0</td>\n",
       "      <td>2000</td>\n",
       "      <td>0.87</td>\n",
       "      <td>0.683</td>\n",
       "      <td>0.9</td>\n",
       "    </tr>\n",
       "    <tr>\n",
       "      <th>2</th>\n",
       "      <td>0.0</td>\n",
       "      <td>0.0</td>\n",
       "      <td>10</td>\n",
       "      <td>94.0</td>\n",
       "      <td>1997</td>\n",
       "      <td>4.36</td>\n",
       "      <td>3.850</td>\n",
       "      <td>1.4</td>\n",
       "    </tr>\n",
       "    <tr>\n",
       "      <th>3</th>\n",
       "      <td>0.0</td>\n",
       "      <td>0.0</td>\n",
       "      <td>9</td>\n",
       "      <td>92.0</td>\n",
       "      <td>1996</td>\n",
       "      <td>2.42</td>\n",
       "      <td>2.220</td>\n",
       "      <td>1.0</td>\n",
       "    </tr>\n",
       "    <tr>\n",
       "      <th>4</th>\n",
       "      <td>0.0</td>\n",
       "      <td>0.0</td>\n",
       "      <td>6</td>\n",
       "      <td>93.0</td>\n",
       "      <td>1996</td>\n",
       "      <td>1.32</td>\n",
       "      <td>1.690</td>\n",
       "      <td>1.1</td>\n",
       "    </tr>\n",
       "  </tbody>\n",
       "</table>\n",
       "</div>"
      ]
     },
     "execution_count": 18,
     "metadata": {},
     "output_type": "execute_result"
    }
   ],
   "execution_count": 18
  },
  {
   "metadata": {
    "ExecuteTime": {
     "end_time": "2025-06-17T20:49:13.432923Z",
     "start_time": "2025-06-17T20:49:13.387019Z"
    }
   },
   "cell_type": "code",
   "source": [
    "features = Preprocessor().fit_transform(features, cat_feats=cat_feats, num_feats=num_feats)\n",
    "features.head()"
   ],
   "id": "9c8941f4705f8060",
   "outputs": [
    {
     "data": {
      "text/plain": [
       "        age  sample.yr     kappa    lambda  creatinine  sex_1.0  mgus_1.0  \\\n",
       "0  2.990349   0.265985  4.535439  2.915210    1.456232        0         0   \n",
       "1  2.522262   2.383906 -0.621364 -0.972920   -0.464653        0         0   \n",
       "2  2.709497   0.265985  3.104773  1.975059    0.735900        0         0   \n",
       "3  2.522262  -0.439989  1.033511  0.457785   -0.224542        0         0   \n",
       "4  2.615880  -0.439989 -0.140916 -0.035561    0.015568        0         0   \n",
       "\n",
       "   flc.grp_2  flc.grp_3  flc.grp_4  flc.grp_5  flc.grp_6  flc.grp_7  \\\n",
       "0          0          0          0          0          0          0   \n",
       "1          0          0          0          0          0          0   \n",
       "2          0          0          0          0          0          0   \n",
       "3          0          0          0          0          0          0   \n",
       "4          0          0          0          0          1          0   \n",
       "\n",
       "   flc.grp_8  flc.grp_9  flc.grp_10  \n",
       "0          0          0           1  \n",
       "1          0          0           0  \n",
       "2          0          0           1  \n",
       "3          0          1           0  \n",
       "4          0          0           0  "
      ],
      "text/html": [
       "<div>\n",
       "<style scoped>\n",
       "    .dataframe tbody tr th:only-of-type {\n",
       "        vertical-align: middle;\n",
       "    }\n",
       "\n",
       "    .dataframe tbody tr th {\n",
       "        vertical-align: top;\n",
       "    }\n",
       "\n",
       "    .dataframe thead th {\n",
       "        text-align: right;\n",
       "    }\n",
       "</style>\n",
       "<table border=\"1\" class=\"dataframe\">\n",
       "  <thead>\n",
       "    <tr style=\"text-align: right;\">\n",
       "      <th></th>\n",
       "      <th>age</th>\n",
       "      <th>sample.yr</th>\n",
       "      <th>kappa</th>\n",
       "      <th>lambda</th>\n",
       "      <th>creatinine</th>\n",
       "      <th>sex_1.0</th>\n",
       "      <th>mgus_1.0</th>\n",
       "      <th>flc.grp_2</th>\n",
       "      <th>flc.grp_3</th>\n",
       "      <th>flc.grp_4</th>\n",
       "      <th>flc.grp_5</th>\n",
       "      <th>flc.grp_6</th>\n",
       "      <th>flc.grp_7</th>\n",
       "      <th>flc.grp_8</th>\n",
       "      <th>flc.grp_9</th>\n",
       "      <th>flc.grp_10</th>\n",
       "    </tr>\n",
       "  </thead>\n",
       "  <tbody>\n",
       "    <tr>\n",
       "      <th>0</th>\n",
       "      <td>2.990349</td>\n",
       "      <td>0.265985</td>\n",
       "      <td>4.535439</td>\n",
       "      <td>2.915210</td>\n",
       "      <td>1.456232</td>\n",
       "      <td>0</td>\n",
       "      <td>0</td>\n",
       "      <td>0</td>\n",
       "      <td>0</td>\n",
       "      <td>0</td>\n",
       "      <td>0</td>\n",
       "      <td>0</td>\n",
       "      <td>0</td>\n",
       "      <td>0</td>\n",
       "      <td>0</td>\n",
       "      <td>1</td>\n",
       "    </tr>\n",
       "    <tr>\n",
       "      <th>1</th>\n",
       "      <td>2.522262</td>\n",
       "      <td>2.383906</td>\n",
       "      <td>-0.621364</td>\n",
       "      <td>-0.972920</td>\n",
       "      <td>-0.464653</td>\n",
       "      <td>0</td>\n",
       "      <td>0</td>\n",
       "      <td>0</td>\n",
       "      <td>0</td>\n",
       "      <td>0</td>\n",
       "      <td>0</td>\n",
       "      <td>0</td>\n",
       "      <td>0</td>\n",
       "      <td>0</td>\n",
       "      <td>0</td>\n",
       "      <td>0</td>\n",
       "    </tr>\n",
       "    <tr>\n",
       "      <th>2</th>\n",
       "      <td>2.709497</td>\n",
       "      <td>0.265985</td>\n",
       "      <td>3.104773</td>\n",
       "      <td>1.975059</td>\n",
       "      <td>0.735900</td>\n",
       "      <td>0</td>\n",
       "      <td>0</td>\n",
       "      <td>0</td>\n",
       "      <td>0</td>\n",
       "      <td>0</td>\n",
       "      <td>0</td>\n",
       "      <td>0</td>\n",
       "      <td>0</td>\n",
       "      <td>0</td>\n",
       "      <td>0</td>\n",
       "      <td>1</td>\n",
       "    </tr>\n",
       "    <tr>\n",
       "      <th>3</th>\n",
       "      <td>2.522262</td>\n",
       "      <td>-0.439989</td>\n",
       "      <td>1.033511</td>\n",
       "      <td>0.457785</td>\n",
       "      <td>-0.224542</td>\n",
       "      <td>0</td>\n",
       "      <td>0</td>\n",
       "      <td>0</td>\n",
       "      <td>0</td>\n",
       "      <td>0</td>\n",
       "      <td>0</td>\n",
       "      <td>0</td>\n",
       "      <td>0</td>\n",
       "      <td>0</td>\n",
       "      <td>1</td>\n",
       "      <td>0</td>\n",
       "    </tr>\n",
       "    <tr>\n",
       "      <th>4</th>\n",
       "      <td>2.615880</td>\n",
       "      <td>-0.439989</td>\n",
       "      <td>-0.140916</td>\n",
       "      <td>-0.035561</td>\n",
       "      <td>0.015568</td>\n",
       "      <td>0</td>\n",
       "      <td>0</td>\n",
       "      <td>0</td>\n",
       "      <td>0</td>\n",
       "      <td>0</td>\n",
       "      <td>0</td>\n",
       "      <td>1</td>\n",
       "      <td>0</td>\n",
       "      <td>0</td>\n",
       "      <td>0</td>\n",
       "      <td>0</td>\n",
       "    </tr>\n",
       "  </tbody>\n",
       "</table>\n",
       "</div>"
      ]
     },
     "execution_count": 19,
     "metadata": {},
     "output_type": "execute_result"
    }
   ],
   "execution_count": 19
  },
  {
   "metadata": {
    "ExecuteTime": {
     "end_time": "2025-06-17T20:49:52.523204Z",
     "start_time": "2025-06-17T20:49:52.501265Z"
    }
   },
   "cell_type": "code",
   "source": [
    "import numpy as np\n",
    "\n",
    "horizons = [0.25, 0.5, 0.75]\n",
    "times = np.quantile(outcomes.time[outcomes.event==1], horizons).tolist()\n",
    "times"
   ],
   "id": "4ee304a2be4adb01",
   "outputs": [
    {
     "data": {
      "text/plain": [
       "[902.25, 2084.0, 3245.0]"
      ]
     },
     "execution_count": 21,
     "metadata": {},
     "output_type": "execute_result"
    }
   ],
   "execution_count": 21
  },
  {
   "metadata": {
    "ExecuteTime": {
     "end_time": "2025-06-17T20:51:58.039561Z",
     "start_time": "2025-06-17T20:51:58.014627Z"
    }
   },
   "cell_type": "code",
   "source": [
    "x, t, e = features.values, outcomes.time.values, outcomes.event.values\n",
    "\n",
    "n = len(x)\n",
    "\n",
    "tr_size = int(n * 0.70)\n",
    "vl_size = int(n * 0.10)\n",
    "te_size = int(n * 0.20)\n",
    "\n",
    "x_train, x_test, x_val = x[:tr_size], x[-te_size:], x[tr_size:tr_size+vl_size]\n",
    "t_train, t_test, t_val = t[:tr_size], t[-te_size:], t[tr_size:tr_size+vl_size]\n",
    "e_train, e_test, e_val = e[:tr_size], e[-te_size:], e[tr_size:tr_size+vl_size]\n",
    "\n",
    "t = outcomes[\"time\"]\n",
    "e = outcomes[\"event\"]\n",
    "quantiles = [0.25, 0.5, 0.75]\n",
    "quantiles = np.quantile(t[e == 1], quantiles)\n",
    "quantiles"
   ],
   "id": "b2752a36daa41181",
   "outputs": [
    {
     "data": {
      "text/plain": [
       "array([ 902.25, 2084.  , 3245.  ])"
      ]
     },
     "execution_count": 23,
     "metadata": {},
     "output_type": "execute_result"
    }
   ],
   "execution_count": 23
  },
  {
   "metadata": {
    "ExecuteTime": {
     "end_time": "2025-06-17T20:51:59.433831Z",
     "start_time": "2025-06-17T20:51:59.414910Z"
    }
   },
   "cell_type": "code",
   "source": [
    "# Initialize the Deep Cox Mixtures model\n",
    "model = DeepCoxMixtures(\n",
    "    k=6,                   # number of latent clusters\n",
    "    layers=[100],          # hidden layer dimensions\n",
    "    gamma=1.0,             # regularization term\n",
    "    smoothing_factor=1e-4, # baseline smoothing\n",
    "    use_activation=False,  # linear transformation\n",
    "    random_seed=42\n",
    ")"
   ],
   "id": "7548c95bbf0ce810",
   "outputs": [],
   "execution_count": 24
  },
  {
   "metadata": {
    "ExecuteTime": {
     "end_time": "2025-06-17T20:52:29.017072Z",
     "start_time": "2025-06-17T20:52:00.728371Z"
    }
   },
   "cell_type": "code",
   "source": "model.fit(x_train, t_train, e_train, iters=100, val_data=(x_val, t_val, e_val))",
   "id": "71f13d26195a3142",
   "outputs": [
    {
     "name": "stderr",
     "output_type": "stream",
     "text": [
      "  0%|          | 0/100 [00:00<?, ?it/s]D:\\anaconda3\\envs\\FLCausalMixture\\lib\\site-packages\\auton_survival\\models\\dcm\\dcm_utilities.py:105: RuntimeWarning: divide by zero encountered in log\n",
      "  probs = gates+np.log(event_probs)\n",
      "D:\\anaconda3\\envs\\FLCausalMixture\\lib\\site-packages\\auton_survival\\models\\dcm\\dcm_utilities.py:105: RuntimeWarning: invalid value encountered in log\n",
      "  probs = gates+np.log(event_probs)\n",
      " 29%|██▉       | 29/100 [00:18<00:55,  1.28it/s]D:\\anaconda3\\envs\\FLCausalMixture\\lib\\site-packages\\auton_survival\\models\\dcm\\dcm_utilities.py:58: RuntimeWarning: invalid value encountered in power\n",
      "  return spl(ts)**risks\n",
      "D:\\anaconda3\\envs\\FLCausalMixture\\lib\\site-packages\\auton_survival\\models\\dcm\\dcm_utilities.py:53: RuntimeWarning: invalid value encountered in power\n",
      "  s0ts = (-risks)*(spl(ts)**(risks-1))\n",
      " 40%|████      | 40/100 [00:28<00:42,  1.42it/s]\n"
     ]
    },
    {
     "data": {
      "text/plain": [
       "<auton_survival.models.dcm.DeepCoxMixtures at 0x1c998384670>"
      ]
     },
     "execution_count": 25,
     "metadata": {},
     "output_type": "execute_result"
    }
   ],
   "execution_count": 25
  },
  {
   "metadata": {
    "collapsed": true,
    "ExecuteTime": {
     "end_time": "2025-06-17T20:57:47.299491Z",
     "start_time": "2025-06-17T20:57:47.288521Z"
    }
   },
   "cell_type": "code",
   "source": [
    "out_survival = model.predict_survival(x_test, times)\n",
    "out_survival"
   ],
   "id": "initial_id",
   "outputs": [
    {
     "data": {
      "text/plain": [
       "array([[0.97681016, 0.9482042 , 0.91350657],\n",
       "       [0.9721724 , 0.9368561 , 0.8925423 ],\n",
       "       [0.9728453 , 0.938365  , 0.8953506 ],\n",
       "       ...,\n",
       "       [0.9841021 , 0.96589816, 0.9462062 ],\n",
       "       [0.976333  , 0.9468227 , 0.9109912 ],\n",
       "       [0.98237723, 0.9616073 , 0.9382817 ]], dtype=float32)"
      ]
     },
     "execution_count": 33,
     "metadata": {},
     "output_type": "execute_result"
    }
   ],
   "execution_count": 33
  },
  {
   "metadata": {
    "ExecuteTime": {
     "end_time": "2025-06-17T21:03:35.106694Z",
     "start_time": "2025-06-17T21:03:35.091734Z"
    }
   },
   "cell_type": "code",
   "source": [
    "out_risk = 1 - out_survival\n",
    "out_risk"
   ],
   "id": "6b31b95e2d01b161",
   "outputs": [
    {
     "data": {
      "text/plain": [
       "array([[0.02318984, 0.05179578, 0.08649343],\n",
       "       [0.02782762, 0.06314391, 0.1074577 ],\n",
       "       [0.02715468, 0.06163502, 0.10464942],\n",
       "       ...,\n",
       "       [0.01589793, 0.03410184, 0.05379379],\n",
       "       [0.02366698, 0.0531773 , 0.08900881],\n",
       "       [0.01762277, 0.03839272, 0.06171829]], dtype=float32)"
      ]
     },
     "execution_count": 36,
     "metadata": {},
     "output_type": "execute_result"
    }
   ],
   "execution_count": 36
  },
  {
   "metadata": {
    "ExecuteTime": {
     "end_time": "2025-06-17T20:58:13.177019Z",
     "start_time": "2025-06-17T20:58:13.157073Z"
    }
   },
   "cell_type": "code",
   "source": [
    "latent_z = model.predict_latent_z(x_test)\n",
    "latent_z"
   ],
   "id": "ac34676f207c18dd",
   "outputs": [
    {
     "data": {
      "text/plain": [
       "array([[0.03062083, 0.85112166, 0.02779981, 0.03823591, 0.02758756,\n",
       "        0.02463439],\n",
       "       [0.04905907, 0.7854898 , 0.03905129, 0.05333647, 0.03902204,\n",
       "        0.03404137],\n",
       "       [0.0473644 , 0.79333496, 0.03719844, 0.05361987, 0.03794697,\n",
       "        0.0305353 ],\n",
       "       ...,\n",
       "       [0.01002624, 0.95190287, 0.00868921, 0.01303166, 0.00878667,\n",
       "        0.00756337],\n",
       "       [0.03833099, 0.84153056, 0.02949509, 0.04103643, 0.02785478,\n",
       "        0.02175217],\n",
       "       [0.01731054, 0.92655474, 0.01357036, 0.02018164, 0.01223912,\n",
       "        0.01014367]], dtype=float32)"
      ]
     },
     "execution_count": 35,
     "metadata": {},
     "output_type": "execute_result"
    }
   ],
   "execution_count": 35
  },
  {
   "metadata": {
    "ExecuteTime": {
     "end_time": "2025-06-17T20:53:20.264569Z",
     "start_time": "2025-06-17T20:53:20.254596Z"
    }
   },
   "cell_type": "code",
   "source": "from sksurv.metrics import concordance_index_ipcw, brier_score, cumulative_dynamic_auc",
   "id": "10586f3d16322e40",
   "outputs": [],
   "execution_count": 28
  },
  {
   "metadata": {
    "ExecuteTime": {
     "end_time": "2025-06-17T21:03:40.228115Z",
     "start_time": "2025-06-17T21:03:40.152319Z"
    }
   },
   "cell_type": "code",
   "source": [
    "cis = []\n",
    "brs = []\n",
    "\n",
    "et_train = np.array([(e_train[i], t_train[i]) for i in range(len(e_train))],\n",
    "                 dtype = [('e', bool), ('t', float)])\n",
    "et_test = np.array([(e_test[i], t_test[i]) for i in range(len(e_test))],\n",
    "                 dtype = [('e', bool), ('t', float)])\n",
    "et_val = np.array([(e_val[i], t_val[i]) for i in range(len(e_val))],\n",
    "                 dtype = [('e', bool), ('t', float)])\n",
    "\n",
    "for i, _ in enumerate(times):\n",
    "    cis.append(concordance_index_ipcw(et_train, et_test, out_risk[:, i], times[i])[0])\n",
    "brs.append(brier_score(et_train, et_test, out_survival, times)[1])\n",
    "roc_auc = []\n",
    "for i, _ in enumerate(times):\n",
    "    roc_auc.append(cumulative_dynamic_auc(et_train, et_test, out_risk[:, i], times[i])[0])\n",
    "for horizon in enumerate(horizons):\n",
    "    print(f\"For {horizon[1]} quantile,\")\n",
    "    print(\"TD Concordance Index:\", cis[horizon[0]])\n",
    "    print(\"Brier Score:\", brs[0][horizon[0]])\n",
    "    print(\"ROC AUC \", roc_auc[horizon[0]][0], \"\\n\")"
   ],
   "id": "7962f69c3b9a6ce2",
   "outputs": [
    {
     "name": "stdout",
     "output_type": "stream",
     "text": [
      "For 0.25 quantile,\n",
      "TD Concordance Index: 0.5791622903677868\n",
      "Brier Score: 0.021187988636670076\n",
      "ROC AUC  0.5824401917051168 \n",
      "\n",
      "For 0.5 quantile,\n",
      "TD Concordance Index: 0.617581564692493\n",
      "Brier Score: 0.0344572222517535\n",
      "ROC AUC  0.6220365808391632 \n",
      "\n",
      "For 0.75 quantile,\n",
      "TD Concordance Index: 0.5859263544448308\n",
      "Brier Score: 0.050610393501503724\n",
      "ROC AUC  0.5918498225074984 \n",
      "\n"
     ]
    }
   ],
   "execution_count": 37
  }
 ],
 "metadata": {
  "kernelspec": {
   "display_name": "FLCausalMixture",
   "language": "python",
   "name": "flcausalmixture"
  },
  "language_info": {
   "codemirror_mode": {
    "name": "ipython",
    "version": 2
   },
   "file_extension": ".py",
   "mimetype": "text/x-python",
   "name": "python",
   "nbconvert_exporter": "python",
   "pygments_lexer": "ipython2",
   "version": "2.7.6"
  }
 },
 "nbformat": 4,
 "nbformat_minor": 5
}
