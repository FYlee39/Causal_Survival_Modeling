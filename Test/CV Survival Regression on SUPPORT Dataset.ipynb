{
 "cells": [
  {
   "cell_type": "code",
   "id": "initial_id",
   "metadata": {
    "collapsed": true,
    "ExecuteTime": {
     "end_time": "2025-06-13T20:59:19.595031Z",
     "start_time": "2025-06-13T20:59:19.089122Z"
    }
   },
   "source": [
    "import sys\n",
    "\n",
    "sys.path.append('../')\n",
    "from auton_survival import datasets\n",
    "outcomes, features = datasets.load_support()"
   ],
   "outputs": [
    {
     "name": "stderr",
     "output_type": "stream",
     "text": [
      "D:\\anaconda3\\envs\\FLCausalMixture\\lib\\site-packages\\requests\\__init__.py:86: RequestsDependencyWarning: Unable to find acceptable character detection dependency (chardet or charset_normalizer).\n",
      "  warnings.warn(\n"
     ]
    }
   ],
   "execution_count": 3
  },
  {
   "metadata": {
    "ExecuteTime": {
     "end_time": "2025-06-13T20:59:27.345472Z",
     "start_time": "2025-06-13T20:59:27.280645Z"
    }
   },
   "cell_type": "code",
   "source": [
    "from auton_survival.preprocessing import Preprocessor\n",
    "\n",
    "cat_feats = ['sex', 'dzgroup', 'dzclass', 'income', 'race', 'ca']\n",
    "num_feats = ['age', 'num.co', 'meanbp', 'wblc', 'hrt', 'resp',\n",
    "             'temp', 'pafi', 'alb', 'bili', 'crea', 'sod', 'ph',\n",
    "             'glucose', 'bun', 'urine', 'adlp', 'adls']\n",
    "\n",
    "# Data should be processed in a fold-independent manner when performing cross-validation.\n",
    "# For simplicity in this demo, we process the dataset in a non-independent manner.\n",
    "preprocessor = Preprocessor(cat_feat_strat='ignore', num_feat_strat= 'mean')\n",
    "x = preprocessor.fit_transform(features, cat_feats=cat_feats, num_feats=num_feats,\n",
    "                                one_hot=True, fill_value=-1)"
   ],
   "id": "a6d1e57471f05ebf",
   "outputs": [],
   "execution_count": 4
  },
  {
   "metadata": {
    "ExecuteTime": {
     "end_time": "2025-06-13T20:59:29.379999Z",
     "start_time": "2025-06-13T20:59:29.373018Z"
    }
   },
   "cell_type": "code",
   "source": [
    "import numpy as np\n",
    "times = np.quantile(outcomes.time[outcomes.event==1], [0.25, 0.5, 0.75]).tolist()"
   ],
   "id": "ff09028f97f93189",
   "outputs": [],
   "execution_count": 5
  },
  {
   "metadata": {
    "ExecuteTime": {
     "end_time": "2025-06-13T21:00:41.867049Z",
     "start_time": "2025-06-13T20:59:30.853324Z"
    }
   },
   "cell_type": "code",
   "source": [
    "from auton_survival.experiments import SurvivalRegressionCV\n",
    "\n",
    "param_grid = {'k' : [3],\n",
    "              'distribution' : ['Weibull'],\n",
    "              'learning_rate' : [1e-4, 1e-3],\n",
    "              'layers' : [[100]]}\n",
    "\n",
    "experiment = SurvivalRegressionCV(model='dsm', num_folds=3, hyperparam_grid=param_grid, random_seed=0)\n",
    "model = experiment.fit(x, outcomes, times, metric='brs')"
   ],
   "id": "ea0a0b9feabb2489",
   "outputs": [
    {
     "name": "stdout",
     "output_type": "stream",
     "text": [
      "At hyper-param {'distribution': 'Weibull', 'k': 3, 'layers': [100], 'learning_rate': 0.0001}\n",
      "At fold: 0\n"
     ]
    },
    {
     "name": "stderr",
     "output_type": "stream",
     "text": [
      " 13%|█▎        | 1281/10000 [00:02<00:18, 462.90it/s]\n",
      "100%|██████████| 50/50 [00:06<00:00,  7.97it/s]\n"
     ]
    },
    {
     "name": "stdout",
     "output_type": "stream",
     "text": [
      "At fold: 1\n"
     ]
    },
    {
     "name": "stderr",
     "output_type": "stream",
     "text": [
      " 18%|█▊        | 1767/10000 [00:03<00:15, 537.37it/s]\n",
      "100%|██████████| 50/50 [00:06<00:00,  7.99it/s]\n"
     ]
    },
    {
     "name": "stdout",
     "output_type": "stream",
     "text": [
      "At fold: 2\n"
     ]
    },
    {
     "name": "stderr",
     "output_type": "stream",
     "text": [
      " 14%|█▍        | 1429/10000 [00:02<00:16, 528.17it/s]\n",
      "100%|██████████| 50/50 [00:06<00:00,  7.85it/s]\n"
     ]
    },
    {
     "name": "stdout",
     "output_type": "stream",
     "text": [
      "At hyper-param {'distribution': 'Weibull', 'k': 3, 'layers': [100], 'learning_rate': 0.001}\n",
      "At fold: 0\n"
     ]
    },
    {
     "name": "stderr",
     "output_type": "stream",
     "text": [
      " 13%|█▎        | 1281/10000 [00:02<00:16, 517.27it/s]\n",
      "100%|██████████| 50/50 [00:06<00:00,  7.79it/s]\n"
     ]
    },
    {
     "name": "stdout",
     "output_type": "stream",
     "text": [
      "At fold: 1\n"
     ]
    },
    {
     "name": "stderr",
     "output_type": "stream",
     "text": [
      " 18%|█▊        | 1767/10000 [00:03<00:15, 517.44it/s]\n",
      "100%|██████████| 50/50 [00:06<00:00,  7.60it/s]\n"
     ]
    },
    {
     "name": "stdout",
     "output_type": "stream",
     "text": [
      "At fold: 2\n"
     ]
    },
    {
     "name": "stderr",
     "output_type": "stream",
     "text": [
      " 14%|█▍        | 1429/10000 [00:02<00:16, 524.12it/s]\n",
      "100%|██████████| 50/50 [00:06<00:00,  7.73it/s]\n",
      " 19%|█▉        | 1886/10000 [00:04<00:18, 435.87it/s]\n",
      "100%|██████████| 50/50 [00:09<00:00,  5.13it/s]\n"
     ]
    }
   ],
   "execution_count": 6
  },
  {
   "metadata": {
    "ExecuteTime": {
     "end_time": "2025-06-13T21:00:48.874400Z",
     "start_time": "2025-06-13T21:00:48.858444Z"
    }
   },
   "cell_type": "code",
   "source": [
    "print(experiment.folds)\n",
    "model"
   ],
   "id": "59fc574a9f3f9948",
   "outputs": [
    {
     "name": "stdout",
     "output_type": "stream",
     "text": [
      "[2 2 0 ... 0 0 0]\n"
     ]
    },
    {
     "data": {
      "text/plain": [
       "<auton_survival.estimators.SurvivalModel at 0x243acc5e730>"
      ]
     },
     "execution_count": 7,
     "metadata": {},
     "output_type": "execute_result"
    }
   ],
   "execution_count": 7
  },
  {
   "metadata": {
    "ExecuteTime": {
     "end_time": "2025-06-13T21:00:50.876412Z",
     "start_time": "2025-06-13T21:00:50.612612Z"
    }
   },
   "cell_type": "code",
   "source": [
    "out_risk = model.predict_risk(x, times)\n",
    "out_survival = model.predict_survival(x, times)"
   ],
   "id": "8879fa5cdfe8b90f",
   "outputs": [],
   "execution_count": 8
  },
  {
   "metadata": {
    "ExecuteTime": {
     "end_time": "2025-06-13T21:00:52.021269Z",
     "start_time": "2025-06-13T21:00:51.989325Z"
    }
   },
   "cell_type": "code",
   "source": [
    "from auton_survival.metrics import survival_regression_metric\n",
    "\n",
    "for fold in set(experiment.folds):\n",
    "    print(survival_regression_metric('brs', outcomes[experiment.folds==fold],\n",
    "                                     out_survival[experiment.folds==fold],\n",
    "                                     times=times))"
   ],
   "id": "e7c5f7b527c4d0eb",
   "outputs": [
    {
     "name": "stdout",
     "output_type": "stream",
     "text": [
      "[0.12917649 0.19436242 0.20631976]\n",
      "[0.12691664 0.19280962 0.20635106]\n",
      "[0.12159038 0.19158577 0.20871653]\n"
     ]
    },
    {
     "name": "stderr",
     "output_type": "stream",
     "text": [
      "D:\\anaconda3\\envs\\FLCausalMixture\\lib\\site-packages\\auton_survival\\metrics.py:212: UserWarning: You are are evaluating model performance on the same data used to estimate the censoring distribution.\n",
      "  warnings.warn(\"You are are evaluating model performance on the \\\n",
      "D:\\anaconda3\\envs\\FLCausalMixture\\lib\\site-packages\\auton_survival\\metrics.py:212: UserWarning: You are are evaluating model performance on the same data used to estimate the censoring distribution.\n",
      "  warnings.warn(\"You are are evaluating model performance on the \\\n",
      "D:\\anaconda3\\envs\\FLCausalMixture\\lib\\site-packages\\auton_survival\\metrics.py:212: UserWarning: You are are evaluating model performance on the same data used to estimate the censoring distribution.\n",
      "  warnings.warn(\"You are are evaluating model performance on the \\\n"
     ]
    }
   ],
   "execution_count": 9
  },
  {
   "metadata": {
    "ExecuteTime": {
     "end_time": "2025-06-13T21:00:59.921349Z",
     "start_time": "2025-06-13T21:00:59.118752Z"
    }
   },
   "cell_type": "code",
   "source": [
    "from auton_survival.metrics import survival_regression_metric\n",
    "\n",
    "for fold in set(experiment.folds):\n",
    "    print(survival_regression_metric('ctd', outcomes[experiment.folds==fold],\n",
    "                                     out_survival[experiment.folds==fold],\n",
    "                                     times=times))"
   ],
   "id": "fcc2512c57e95e6",
   "outputs": [
    {
     "name": "stderr",
     "output_type": "stream",
     "text": [
      "D:\\anaconda3\\envs\\FLCausalMixture\\lib\\site-packages\\auton_survival\\metrics.py:212: UserWarning: You are are evaluating model performance on the same data used to estimate the censoring distribution.\n",
      "  warnings.warn(\"You are are evaluating model performance on the \\\n"
     ]
    },
    {
     "name": "stdout",
     "output_type": "stream",
     "text": [
      "[0.765472457063747, 0.7223859858263633, 0.688765174086125]\n"
     ]
    },
    {
     "name": "stderr",
     "output_type": "stream",
     "text": [
      "D:\\anaconda3\\envs\\FLCausalMixture\\lib\\site-packages\\auton_survival\\metrics.py:212: UserWarning: You are are evaluating model performance on the same data used to estimate the censoring distribution.\n",
      "  warnings.warn(\"You are are evaluating model performance on the \\\n"
     ]
    },
    {
     "name": "stdout",
     "output_type": "stream",
     "text": [
      "[0.781271531344058, 0.7275326444323827, 0.688923316104416]\n"
     ]
    },
    {
     "name": "stderr",
     "output_type": "stream",
     "text": [
      "D:\\anaconda3\\envs\\FLCausalMixture\\lib\\site-packages\\auton_survival\\metrics.py:212: UserWarning: You are are evaluating model performance on the same data used to estimate the censoring distribution.\n",
      "  warnings.warn(\"You are are evaluating model performance on the \\\n"
     ]
    },
    {
     "name": "stdout",
     "output_type": "stream",
     "text": [
      "[0.7612520620726958, 0.7181912109861889, 0.6816684343816966]\n"
     ]
    }
   ],
   "execution_count": 10
  },
  {
   "metadata": {
    "ExecuteTime": {
     "end_time": "2025-06-13T21:01:02.474208Z",
     "start_time": "2025-06-13T21:01:02.465232Z"
    }
   },
   "cell_type": "code",
   "source": [
    "for fold in set(experiment.folds):\n",
    "    for time in times:\n",
    "        print(time)"
   ],
   "id": "43a6157780e02788",
   "outputs": [
    {
     "name": "stdout",
     "output_type": "stream",
     "text": [
      "14.0\n",
      "58.0\n",
      "252.0\n",
      "14.0\n",
      "58.0\n",
      "252.0\n",
      "14.0\n",
      "58.0\n",
      "252.0\n"
     ]
    }
   ],
   "execution_count": 11
  }
 ],
 "metadata": {
  "kernelspec": {
   "display_name": "FLCausalMixture",
   "language": "python",
   "name": "flcausalmixture"
  },
  "language_info": {
   "codemirror_mode": {
    "name": "ipython",
    "version": 2
   },
   "file_extension": ".py",
   "mimetype": "text/x-python",
   "name": "python",
   "nbconvert_exporter": "python",
   "pygments_lexer": "ipython2",
   "version": "2.7.6"
  }
 },
 "nbformat": 4,
 "nbformat_minor": 5
}
