{
 "cells": [
  {
   "metadata": {},
   "cell_type": "markdown",
   "source": "# 1. Preparation",
   "id": "ff6ca6dd4a9dc21f"
  },
  {
   "metadata": {
    "ExecuteTime": {
     "end_time": "2025-07-05T21:12:13.058089Z",
     "start_time": "2025-07-05T21:12:13.006562Z"
    }
   },
   "cell_type": "code",
   "source": [
    "import pandas as pd\n",
    "eICU_data = pd.read_csv(\"C:\\\\Users\\\\lee39\\\\OneDrive\\\\Desktop\\\\final_merged_dataset.csv\")\n",
    "cleaned_df = eICU_data.copy()"
   ],
   "id": "initial_id",
   "outputs": [],
   "execution_count": 62
  },
  {
   "metadata": {
    "ExecuteTime": {
     "end_time": "2025-07-05T21:12:14.143996Z",
     "start_time": "2025-07-05T21:12:14.111675Z"
    }
   },
   "cell_type": "code",
   "source": [
    "cleaned_df.drop([\"patientunitstayid\"], inplace=True, axis=1)\n",
    "cleaned_df.drop([\"hospitalid\"], inplace=True, axis=1)\n",
    "\n",
    "time = cleaned_df[\"unitdischargeoffset\"]\n",
    "cleaned_df.drop([\"unitdischargeoffset\"], inplace=True, axis=1)\n",
    "\n",
    "treatment = cleaned_df[\"has_Vasopressor\"]\n",
    "cleaned_df.drop([\"has_Vasopressor\"], inplace=True, axis=1)\n",
    "\n",
    "event = (cleaned_df['unitdischargestatus'] == 'Expired').astype(int)\n",
    "cleaned_df.drop([\"unitdischargestatus\"], inplace=True, axis=1)\n",
    "\n",
    "categorical_features = [\"gender\",\n",
    "                    \"ethnicity\",\n",
    "                    \"admission_type\",\n",
    "                    \"has_COPD\",\n",
    "                    \"has_Diabetes\",\n",
    "                    \"has_Metastasis\",\n",
    "                    \"has_Sepsis_A41_9\"]\n",
    "\n",
    "numerical_features = list(cleaned_df.columns.drop(categorical_features))\n"
   ],
   "id": "9477e51830d16240",
   "outputs": [],
   "execution_count": 63
  },
  {
   "metadata": {
    "ExecuteTime": {
     "end_time": "2025-07-05T21:12:15.723601Z",
     "start_time": "2025-07-05T21:12:15.707485Z"
    }
   },
   "cell_type": "code",
   "source": "treatment",
   "id": "d2432b294bf2779c",
   "outputs": [
    {
     "data": {
      "text/plain": [
       "0        0.0\n",
       "1        0.0\n",
       "2        0.0\n",
       "3        0.0\n",
       "4        0.0\n",
       "        ... \n",
       "35484    0.0\n",
       "35485    0.0\n",
       "35486    0.0\n",
       "35487    0.0\n",
       "35488    0.0\n",
       "Name: has_Vasopressor, Length: 35489, dtype: float64"
      ]
     },
     "execution_count": 64,
     "metadata": {},
     "output_type": "execute_result"
    }
   ],
   "execution_count": 64
  },
  {
   "metadata": {
    "ExecuteTime": {
     "end_time": "2025-07-05T21:12:17.533087Z",
     "start_time": "2025-07-05T21:12:17.520085Z"
    }
   },
   "cell_type": "code",
   "source": [
    "print(f\"Categorical features: {categorical_features}\")\n",
    "print(f\"Numerical features: {numerical_features}\")"
   ],
   "id": "3d94eb02a22ca746",
   "outputs": [
    {
     "name": "stdout",
     "output_type": "stream",
     "text": [
      "Categorical features: ['gender', 'ethnicity', 'admission_type', 'has_COPD', 'has_Diabetes', 'has_Metastasis', 'has_Sepsis_A41_9']\n",
      "Numerical features: ['age', 'GCS', 'vent', 'WBC x 1000', 'Hgb', 'platelets x 1000', 'total bilirubin', 'creatinine', 'albumin', 'anion gap']\n"
     ]
    }
   ],
   "execution_count": 65
  },
  {
   "metadata": {
    "ExecuteTime": {
     "end_time": "2025-07-05T20:17:13.569581Z",
     "start_time": "2025-07-05T20:17:13.550584Z"
    }
   },
   "cell_type": "code",
   "source": "cleaned_df.info()",
   "id": "d7e0d0a6942801c3",
   "outputs": [
    {
     "name": "stdout",
     "output_type": "stream",
     "text": [
      "<class 'pandas.core.frame.DataFrame'>\n",
      "RangeIndex: 35489 entries, 0 to 35488\n",
      "Data columns (total 17 columns):\n",
      " #   Column            Non-Null Count  Dtype  \n",
      "---  ------            --------------  -----  \n",
      " 0   gender            35489 non-null  object \n",
      " 1   age               35489 non-null  int64  \n",
      " 2   ethnicity         35489 non-null  object \n",
      " 3   admission_type    35489 non-null  object \n",
      " 4   has_COPD          35489 non-null  float64\n",
      " 5   has_Diabetes      35489 non-null  float64\n",
      " 6   has_Metastasis    35489 non-null  float64\n",
      " 7   has_Sepsis_A41_9  35489 non-null  float64\n",
      " 8   GCS               35489 non-null  float64\n",
      " 9   vent              35489 non-null  float64\n",
      " 10  WBC x 1000        35489 non-null  float64\n",
      " 11  Hgb               35489 non-null  float64\n",
      " 12  platelets x 1000  35489 non-null  float64\n",
      " 13  total bilirubin   35489 non-null  float64\n",
      " 14  creatinine        35489 non-null  float64\n",
      " 15  albumin           35489 non-null  float64\n",
      " 16  anion gap         35489 non-null  float64\n",
      "dtypes: float64(13), int64(1), object(3)\n",
      "memory usage: 4.6+ MB\n"
     ]
    }
   ],
   "execution_count": 14
  },
  {
   "metadata": {},
   "cell_type": "markdown",
   "source": "# 2. DCM on eICU",
   "id": "cb80578930f5c926"
  },
  {
   "metadata": {
    "ExecuteTime": {
     "end_time": "2025-07-05T21:12:22.277168Z",
     "start_time": "2025-07-05T21:12:22.263341Z"
    }
   },
   "cell_type": "code",
   "source": [
    "features = pd.concat([cleaned_df, treatment], axis=1)\n",
    "outcomes = pd.concat([time, event], axis=1)\n",
    "outcomes.columns = [\"time\", \"event\"]"
   ],
   "id": "cae98c4e25c62cdf",
   "outputs": [],
   "execution_count": 66
  },
  {
   "metadata": {
    "ExecuteTime": {
     "end_time": "2025-07-05T21:12:24.100038Z",
     "start_time": "2025-07-05T21:12:24.022088Z"
    }
   },
   "cell_type": "code",
   "source": [
    "from auton_survival.preprocessing import Preprocessor\n",
    "\n",
    "features = Preprocessor().fit_transform(features,\n",
    "                                        cat_feats=categorical_features + [\"has_Vasopressor\"],\n",
    "                                        num_feats=numerical_features)"
   ],
   "id": "e000012bc050801b",
   "outputs": [],
   "execution_count": 67
  },
  {
   "metadata": {
    "ExecuteTime": {
     "end_time": "2025-07-05T21:25:46.341761Z",
     "start_time": "2025-07-05T21:25:46.316738Z"
    }
   },
   "cell_type": "code",
   "source": "features.info()",
   "id": "7e795e6e8a00766b",
   "outputs": [
    {
     "name": "stdout",
     "output_type": "stream",
     "text": [
      "<class 'pandas.core.frame.DataFrame'>\n",
      "RangeIndex: 35489 entries, 0 to 35488\n",
      "Data columns (total 23 columns):\n",
      " #   Column                     Non-Null Count  Dtype  \n",
      "---  ------                     --------------  -----  \n",
      " 0   age                        35489 non-null  float64\n",
      " 1   GCS                        35489 non-null  float64\n",
      " 2   vent                       35489 non-null  float64\n",
      " 3   WBC x 1000                 35489 non-null  float64\n",
      " 4   Hgb                        35489 non-null  float64\n",
      " 5   platelets x 1000           35489 non-null  float64\n",
      " 6   total bilirubin            35489 non-null  float64\n",
      " 7   creatinine                 35489 non-null  float64\n",
      " 8   albumin                    35489 non-null  float64\n",
      " 9   anion gap                  35489 non-null  float64\n",
      " 10  gender_Male                35489 non-null  uint8  \n",
      " 11  gender_Unknown             35489 non-null  uint8  \n",
      " 12  ethnicity_Asian            35489 non-null  uint8  \n",
      " 13  ethnicity_Caucasian        35489 non-null  uint8  \n",
      " 14  ethnicity_Hispanic         35489 non-null  uint8  \n",
      " 15  ethnicity_Native American  35489 non-null  uint8  \n",
      " 16  ethnicity_Other/Unknown    35489 non-null  uint8  \n",
      " 17  admission_type_Emergency   35489 non-null  uint8  \n",
      " 18  has_COPD_1.0               35489 non-null  uint8  \n",
      " 19  has_Diabetes_1.0           35489 non-null  uint8  \n",
      " 20  has_Metastasis_1.0         35489 non-null  uint8  \n",
      " 21  has_Sepsis_A41_9_1.0       35489 non-null  uint8  \n",
      " 22  has_Vasopressor_1.0        35489 non-null  uint8  \n",
      "dtypes: float64(10), uint8(13)\n",
      "memory usage: 3.1 MB\n"
     ]
    }
   ],
   "execution_count": 91
  },
  {
   "metadata": {
    "ExecuteTime": {
     "end_time": "2025-07-05T21:12:25.464055Z",
     "start_time": "2025-07-05T21:12:25.446307Z"
    }
   },
   "cell_type": "code",
   "source": [
    "from auton_survival.preprocessing import Preprocessor\n",
    "import numpy as np\n",
    "\n",
    "horizons = [0.25, 0.5, 0.75]\n",
    "times = np.quantile(outcomes.time[outcomes.event==1], horizons).tolist()"
   ],
   "id": "e3d67b2cc7066f4d",
   "outputs": [],
   "execution_count": 68
  },
  {
   "metadata": {
    "ExecuteTime": {
     "end_time": "2025-07-05T21:12:26.797315Z",
     "start_time": "2025-07-05T21:12:26.779514Z"
    }
   },
   "cell_type": "code",
   "source": [
    "x, t, e = features.values, outcomes.time.values, outcomes.event.values\n",
    "\n",
    "n = len(x)\n",
    "\n",
    "tr_size = int(n * 0.70)\n",
    "vl_size = int(n * 0.10)\n",
    "te_size = int(n * 0.20)\n",
    "\n",
    "x_train, x_test, x_val = x[:tr_size], x[-te_size:], x[tr_size:tr_size+vl_size]\n",
    "t_train, t_test, t_val = t[:tr_size], t[-te_size:], t[tr_size:tr_size+vl_size]\n",
    "e_train, e_test, e_val = e[:tr_size], e[-te_size:], e[tr_size:tr_size+vl_size]\n",
    "\n",
    "t = outcomes[\"time\"]\n",
    "e = outcomes[\"event\"]\n",
    "quantiles = [0.25, 0.5, 0.75]\n",
    "quantiles = np.quantile(t[e == 1], quantiles)\n",
    "quantiles"
   ],
   "id": "99bd20db782c8004",
   "outputs": [
    {
     "data": {
      "text/plain": [
       "array([1603., 3921., 8849.])"
      ]
     },
     "execution_count": 69,
     "metadata": {},
     "output_type": "execute_result"
    }
   ],
   "execution_count": 69
  },
  {
   "metadata": {
    "ExecuteTime": {
     "end_time": "2025-07-05T21:12:30.134933Z",
     "start_time": "2025-07-05T21:12:30.123786Z"
    }
   },
   "cell_type": "code",
   "source": [
    "from sklearn.model_selection import ParameterGrid\n",
    "\n",
    "param_grid = {'k' : [3],\n",
    "              'learning_rate' : [1e-3],\n",
    "              'layers' : [[50, 50] ]\n",
    "             }\n",
    "params = ParameterGrid(param_grid)"
   ],
   "id": "6aa24c4092c34d93",
   "outputs": [],
   "execution_count": 70
  },
  {
   "metadata": {
    "ExecuteTime": {
     "end_time": "2025-07-05T21:12:54.365955Z",
     "start_time": "2025-07-05T21:12:36.085869Z"
    }
   },
   "cell_type": "code",
   "source": [
    "from auton_survival.models.dcm import DeepCoxMixtures\n",
    "\n",
    "model = DeepCoxMixtures()\n",
    "\n",
    "# The fit method is called to train the model\n",
    "model.fit(x_train, t_train, e_train, iters=100, val_data=(x_val, t_val, e_val))"
   ],
   "id": "8325658680fba7da",
   "outputs": [
    {
     "name": "stderr",
     "output_type": "stream",
     "text": [
      "  0%|          | 0/100 [00:00<?, ?it/s]C:\\My_Programs\\Anaconda\\envs\\CSMDRMP\\lib\\site-packages\\auton_survival\\models\\dcm\\dcm_utilities.py:105: RuntimeWarning: invalid value encountered in log\n",
      "  probs = gates+np.log(event_probs)\n",
      "C:\\My_Programs\\Anaconda\\envs\\CSMDRMP\\lib\\site-packages\\auton_survival\\models\\dcm\\dcm_utilities.py:105: RuntimeWarning: divide by zero encountered in log\n",
      "  probs = gates+np.log(event_probs)\n",
      "  6%|▌         | 6/100 [00:18<04:45,  3.04s/it]\n"
     ]
    },
    {
     "data": {
      "text/plain": [
       "<auton_survival.models.dcm.DeepCoxMixtures at 0x23ef257a9a0>"
      ]
     },
     "execution_count": 72,
     "metadata": {},
     "output_type": "execute_result"
    }
   ],
   "execution_count": 72
  },
  {
   "metadata": {
    "ExecuteTime": {
     "end_time": "2025-07-05T21:30:11.280360Z",
     "start_time": "2025-07-05T21:30:11.263366Z"
    }
   },
   "cell_type": "code",
   "source": [
    "train_latent = model.predict_latent_z(x_train)\n",
    "\n",
    "train_group = np.argmax(train_latent, axis=1)"
   ],
   "id": "bb3d275c8f9dc672",
   "outputs": [
    {
     "data": {
      "text/plain": [
       "(24842,)"
      ]
     },
     "execution_count": 95,
     "metadata": {},
     "output_type": "execute_result"
    }
   ],
   "execution_count": 95
  },
  {
   "metadata": {
    "ExecuteTime": {
     "end_time": "2025-07-05T21:13:30.942736Z",
     "start_time": "2025-07-05T21:13:30.913698Z"
    }
   },
   "cell_type": "code",
   "source": [
    "# plot for different groups\n",
    "\n"
   ],
   "id": "fcff93b0bd870f7a",
   "outputs": [],
   "execution_count": 73
  },
  {
   "metadata": {},
   "cell_type": "code",
   "outputs": [],
   "execution_count": null,
   "source": "",
   "id": "f4a487ae471f7990"
  }
 ],
 "metadata": {
  "kernelspec": {
   "display_name": "Python 3",
   "language": "python",
   "name": "python3"
  },
  "language_info": {
   "codemirror_mode": {
    "name": "ipython",
    "version": 2
   },
   "file_extension": ".py",
   "mimetype": "text/x-python",
   "name": "python",
   "nbconvert_exporter": "python",
   "pygments_lexer": "ipython2",
   "version": "2.7.6"
  }
 },
 "nbformat": 4,
 "nbformat_minor": 5
}
